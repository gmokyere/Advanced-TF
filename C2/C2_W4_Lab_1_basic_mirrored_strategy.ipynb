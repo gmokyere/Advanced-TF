{
  "nbformat": 4,
  "nbformat_minor": 5,
  "metadata": {
    "kernelspec": {
      "display_name": "Python 3",
      "language": "python",
      "name": "python3"
    },
    "language_info": {
      "codemirror_mode": {
        "name": "ipython",
        "version": 3
      },
      "file_extension": ".py",
      "mimetype": "text/x-python",
      "name": "python",
      "nbconvert_exporter": "python",
      "pygments_lexer": "ipython3",
      "version": "3.7.4"
    },
    "colab": {
      "name": "C2_W4_Lab_1_basic-mirrored-strategy.ipynb",
      "provenance": [],
      "collapsed_sections": [],
      "toc_visible": true
    }
  },
  "cells": [
    {
      "cell_type": "code",
      "metadata": {
        "id": "metric-approach"
      },
      "source": [
        "import numpy                      as np\n",
        "import tensorflow                 as tf\n",
        "import tensorflow_hub             as hub\n",
        "import tensorflow_datasets        as tfds"
      ],
      "id": "metric-approach",
      "execution_count": 1,
      "outputs": []
    },
    {
      "cell_type": "markdown",
      "metadata": {
        "id": "3UpFpF469sel"
      },
      "source": [
        "# Data"
      ],
      "id": "3UpFpF469sel"
    },
    {
      "cell_type": "code",
      "metadata": {
        "id": "Jdzx3PgIfFSl"
      },
      "source": [
        "(ds_train, ds_test), ds_info = tfds.load(\n",
        "    'mnist',\n",
        "    split=['train', 'test'],\n",
        "    shuffle_files=True,\n",
        "    as_supervised=True,\n",
        "    with_info=True,\n",
        ")"
      ],
      "id": "Jdzx3PgIfFSl",
      "execution_count": 2,
      "outputs": []
    },
    {
      "cell_type": "markdown",
      "metadata": {
        "id": "voBQ5ZNiAF4M"
      },
      "source": [
        "## Pre-porcess image"
      ],
      "id": "voBQ5ZNiAF4M"
    },
    {
      "cell_type": "code",
      "metadata": {
        "colab": {
          "base_uri": "https://localhost:8080/"
        },
        "id": "WBjj8HZjfV3N",
        "outputId": "4dad3584-60b6-4f37-b7c8-9d5132916944"
      },
      "source": [
        "strategy = tf.distribute.MirroredStrategy()\n",
        "\n",
        "print('number of devices {}'.format(strategy.num_replicas_in_sync))"
      ],
      "id": "WBjj8HZjfV3N",
      "execution_count": 3,
      "outputs": [
        {
          "output_type": "stream",
          "text": [
            "WARNING:tensorflow:There are non-GPU devices in `tf.distribute.Strategy`, not using nccl allreduce.\n"
          ],
          "name": "stdout"
        },
        {
          "output_type": "stream",
          "text": [
            "WARNING:tensorflow:There are non-GPU devices in `tf.distribute.Strategy`, not using nccl allreduce.\n"
          ],
          "name": "stderr"
        },
        {
          "output_type": "stream",
          "text": [
            "INFO:tensorflow:Using MirroredStrategy with devices ('/job:localhost/replica:0/task:0/device:CPU:0',)\n"
          ],
          "name": "stdout"
        },
        {
          "output_type": "stream",
          "text": [
            "INFO:tensorflow:Using MirroredStrategy with devices ('/job:localhost/replica:0/task:0/device:CPU:0',)\n"
          ],
          "name": "stderr"
        },
        {
          "output_type": "stream",
          "text": [
            "number of devices 1\n"
          ],
          "name": "stdout"
        }
      ]
    },
    {
      "cell_type": "code",
      "metadata": {
        "id": "WbLeH6acduZi"
      },
      "source": [
        "## batch size based on number of devices\n",
        "\n",
        "BATCH_SIZE_PER_REPLICA = 64\n",
        "# Use for Mirrored Strategy\n",
        "BATCH_SIZE = BATCH_SIZE_PER_REPLICA * strategy.num_replicas_in_sync"
      ],
      "id": "WbLeH6acduZi",
      "execution_count": 4,
      "outputs": []
    },
    {
      "cell_type": "code",
      "metadata": {
        "id": "4YspcSk3fiNh"
      },
      "source": [
        "def normalize(img, label):\n",
        "  return tf.cast(img, float)/255., label"
      ],
      "id": "4YspcSk3fiNh",
      "execution_count": 5,
      "outputs": []
    },
    {
      "cell_type": "code",
      "metadata": {
        "id": "aNtI1tlrgLFu"
      },
      "source": [
        "ds_train = ds_train.map(normalize, num_parallel_calls= tf.data.experimental.AUTOTUNE)\n",
        "ds_train = ds_train.shuffle(buffer_size=1000).batch(BATCH_SIZE)\n",
        "ds_train = ds_train.prefetch(1000)"
      ],
      "id": "aNtI1tlrgLFu",
      "execution_count": 6,
      "outputs": []
    },
    {
      "cell_type": "code",
      "metadata": {
        "id": "tsSUg2A2BURi"
      },
      "source": [
        "ds_test = ds_test.map(normalize, num_parallel_calls= tf.data.experimental.AUTOTUNE)\n",
        "ds_test = ds_test.shuffle(buffer_size=1000).batch(BATCH_SIZE)\n",
        "ds_test = ds_test.prefetch(1000)"
      ],
      "id": "tsSUg2A2BURi",
      "execution_count": 7,
      "outputs": []
    },
    {
      "cell_type": "markdown",
      "metadata": {
        "id": "u9lXfqphH8KG"
      },
      "source": [
        "## Model"
      ],
      "id": "u9lXfqphH8KG"
    },
    {
      "cell_type": "code",
      "metadata": {
        "colab": {
          "base_uri": "https://localhost:8080/"
        },
        "id": "xLtKNqCnLiMU",
        "outputId": "03e56080-4ea8-413b-b2e3-c455c32834b9"
      },
      "source": [
        "with strategy.scope():\n",
        "  model = tf.keras.Sequential([\n",
        "                            tf.keras.layers.Conv2D(64, 3, activation='relu', input_shape = (28,28,1)),\n",
        "                            tf.keras.layers.MaxPool2D(2),\n",
        "                            tf.keras.layers.Flatten(),\n",
        "                            tf.keras.layers.Dense(64, activation='relu'),\n",
        "                            tf.keras.layers.Dense(10, activation='softmax')\n",
        "  ])\n",
        "\n",
        "model.summary()"
      ],
      "id": "xLtKNqCnLiMU",
      "execution_count": 8,
      "outputs": [
        {
          "output_type": "stream",
          "text": [
            "Model: \"sequential\"\n",
            "_________________________________________________________________\n",
            "Layer (type)                 Output Shape              Param #   \n",
            "=================================================================\n",
            "conv2d (Conv2D)              (None, 26, 26, 64)        640       \n",
            "_________________________________________________________________\n",
            "max_pooling2d (MaxPooling2D) (None, 13, 13, 64)        0         \n",
            "_________________________________________________________________\n",
            "flatten (Flatten)            (None, 10816)             0         \n",
            "_________________________________________________________________\n",
            "dense (Dense)                (None, 64)                692288    \n",
            "_________________________________________________________________\n",
            "dense_1 (Dense)              (None, 10)                650       \n",
            "=================================================================\n",
            "Total params: 693,578\n",
            "Trainable params: 693,578\n",
            "Non-trainable params: 0\n",
            "_________________________________________________________________\n"
          ],
          "name": "stdout"
        }
      ]
    },
    {
      "cell_type": "markdown",
      "metadata": {
        "id": "B59rlpv2W3KX"
      },
      "source": [
        "## Optimizer, loss and accuracy"
      ],
      "id": "B59rlpv2W3KX"
    },
    {
      "cell_type": "code",
      "metadata": {
        "colab": {
          "base_uri": "https://localhost:8080/"
        },
        "id": "_f7UTIXFjOhb",
        "outputId": "2296b243-3c96-4117-f199-93f06ecd76f7"
      },
      "source": [
        "model.compile(optimizer='adam', loss=tf.losses.sparse_categorical_crossentropy,\n",
        "              metrics = ['acc'])\n",
        "\n",
        "model.fit(ds_train, epochs=2)"
      ],
      "id": "_f7UTIXFjOhb",
      "execution_count": 9,
      "outputs": [
        {
          "output_type": "stream",
          "text": [
            "Epoch 1/2\n",
            "938/938 [==============================] - 42s 42ms/step - loss: 0.3440 - acc: 0.9029\n",
            "Epoch 2/2\n",
            "938/938 [==============================] - 36s 38ms/step - loss: 0.0642 - acc: 0.9807\n"
          ],
          "name": "stdout"
        },
        {
          "output_type": "execute_result",
          "data": {
            "text/plain": [
              "<tensorflow.python.keras.callbacks.History at 0x7f3837344750>"
            ]
          },
          "metadata": {
            "tags": []
          },
          "execution_count": 9
        }
      ]
    },
    {
      "cell_type": "code",
      "metadata": {
        "id": "flDEBkmGfJZ9"
      },
      "source": [
        ""
      ],
      "id": "flDEBkmGfJZ9",
      "execution_count": 9,
      "outputs": []
    }
  ]
}