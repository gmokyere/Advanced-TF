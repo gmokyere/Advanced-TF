{
  "nbformat": 4,
  "nbformat_minor": 5,
  "metadata": {
    "kernelspec": {
      "display_name": "Python 3",
      "language": "python",
      "name": "python3"
    },
    "language_info": {
      "codemirror_mode": {
        "name": "ipython",
        "version": 3
      },
      "file_extension": ".py",
      "mimetype": "text/x-python",
      "name": "python",
      "nbconvert_exporter": "python",
      "pygments_lexer": "ipython3",
      "version": "3.7.4"
    },
    "colab": {
      "name": "C2_W3_Lab_1_autograph-basics.ipynb",
      "provenance": [],
      "collapsed_sections": [],
      "toc_visible": true
    }
  },
  "cells": [
    {
      "cell_type": "markdown",
      "metadata": {
        "id": "--41pQZegO5u"
      },
      "source": [
        "## Change eager excution to graph execution\n"
      ],
      "id": "--41pQZegO5u"
    },
    {
      "cell_type": "code",
      "metadata": {
        "id": "metric-approach"
      },
      "source": [
        "import numpy                      as np\n",
        "import tensorflow                 as tf\n"
      ],
      "id": "metric-approach",
      "execution_count": 34,
      "outputs": []
    },
    {
      "cell_type": "code",
      "metadata": {
        "colab": {
          "base_uri": "https://localhost:8080/"
        },
        "id": "Jdzx3PgIfFSl",
        "outputId": "5f19bb9c-f040-419f-a20f-9ef5dd33bcc8"
      },
      "source": [
        "@tf.function\n",
        "\n",
        "def add(a,b):\n",
        "  return a+b\n",
        "\n",
        "\n",
        "a = tf.Variable([[1,2], [3,4]], dtype=float)\n",
        "b = tf.Variable([[4,0], [5,1]], dtype=float)\n",
        "\n",
        "print(add(a,b))"
      ],
      "id": "Jdzx3PgIfFSl",
      "execution_count": 38,
      "outputs": [
        {
          "output_type": "stream",
          "text": [
            "tf.Tensor(\n",
            "[[5. 2.]\n",
            " [8. 5.]], shape=(2, 2), dtype=float32)\n"
          ],
          "name": "stdout"
        }
      ]
    },
    {
      "cell_type": "code",
      "metadata": {
        "colab": {
          "base_uri": "https://localhost:8080/"
        },
        "id": "4YspcSk3fiNh",
        "outputId": "44757998-faae-452c-cd20-5b6296a45d2b"
      },
      "source": [
        "print(tf.autograph.to_code(add.python_function))"
      ],
      "id": "4YspcSk3fiNh",
      "execution_count": 37,
      "outputs": [
        {
          "output_type": "stream",
          "text": [
            "def tf__add(a, b):\n",
            "    with ag__.FunctionScope('add', 'fscope', ag__.ConversionOptions(recursive=True, user_requested=True, optional_features=(), internal_convert_user_code=True)) as fscope:\n",
            "        do_return = False\n",
            "        retval_ = ag__.UndefinedReturnValue()\n",
            "        try:\n",
            "            do_return = True\n",
            "            retval_ = (ag__.ld(a) + ag__.ld(b))\n",
            "        except:\n",
            "            do_return = False\n",
            "            raise\n",
            "        return fscope.ret(retval_, do_return)\n",
            "\n"
          ],
          "name": "stdout"
        }
      ]
    },
    {
      "cell_type": "code",
      "metadata": {
        "colab": {
          "base_uri": "https://localhost:8080/"
        },
        "id": "VIzb75nVfq2s",
        "outputId": "12cb7ca0-cddf-4f6e-c957-c6ee39f1fe28"
      },
      "source": [
        "@tf.function\n",
        "\n",
        "def f(x):\n",
        "  if x>0:\n",
        "    x = x*x\n",
        "  return x\n",
        "\n",
        "print(tf.autograph.to_code(f.python_function))"
      ],
      "id": "VIzb75nVfq2s",
      "execution_count": 39,
      "outputs": [
        {
          "output_type": "stream",
          "text": [
            "def tf__f(x):\n",
            "    with ag__.FunctionScope('f', 'fscope', ag__.ConversionOptions(recursive=True, user_requested=True, optional_features=(), internal_convert_user_code=True)) as fscope:\n",
            "        do_return = False\n",
            "        retval_ = ag__.UndefinedReturnValue()\n",
            "\n",
            "        def get_state():\n",
            "            return (x,)\n",
            "\n",
            "        def set_state(vars_):\n",
            "            nonlocal x\n",
            "            (x,) = vars_\n",
            "\n",
            "        def if_body():\n",
            "            nonlocal x\n",
            "            x = (ag__.ld(x) * ag__.ld(x))\n",
            "\n",
            "        def else_body():\n",
            "            nonlocal x\n",
            "            pass\n",
            "        ag__.if_stmt((ag__.ld(x) > 0), if_body, else_body, get_state, set_state, ('x',), 1)\n",
            "        try:\n",
            "            do_return = True\n",
            "            retval_ = ag__.ld(x)\n",
            "        except:\n",
            "            do_return = False\n",
            "            raise\n",
            "        return fscope.ret(retval_, do_return)\n",
            "\n"
          ],
          "name": "stdout"
        }
      ]
    },
    {
      "cell_type": "code",
      "metadata": {
        "id": "aNtI1tlrgLFu"
      },
      "source": [
        ""
      ],
      "id": "aNtI1tlrgLFu",
      "execution_count": null,
      "outputs": []
    }
  ]
}