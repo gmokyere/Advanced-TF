{
  "nbformat": 4,
  "nbformat_minor": 0,
  "metadata": {
    "colab": {
      "name": "C1_W4_Lab_2_resnet.ipynb",
      "provenance": []
    },
    "kernelspec": {
      "name": "python3",
      "display_name": "Python 3"
    },
    "accelerator": "GPU"
  },
  "cells": [
    {
      "cell_type": "markdown",
      "metadata": {
        "id": "k1Wsr2MJHCz1"
      },
      "source": [
        "# Implementing ResNet\n",
        "In this lab, you will continue exploring Model subclassing by building a more complex architecture.\n",
        "\n",
        "Residual Networks make use of skip connections to make deep models easier to train.\n",
        "\n",
        "There are branches as well as many repeating blocks of layers in this type of network.\n",
        "You can define a model class to help organize this more complex code, and to make it easier to re-use your code when building the model.\n",
        "As before, you will inherit from the Model class so that you can make use of the other built-in methods that Keras provides.\n",
        "\n",
        "\n",
        "# *Imports*"
      ]
    },
    {
      "cell_type": "code",
      "metadata": {
        "id": "TTEwVLbIGWBc"
      },
      "source": [
        "import tensorflow as tf\n",
        "import numpy as np\n",
        "from tensorflow.keras.layers import Dense, Lambda, Input, Flatten, Layer, concatenate, Conv2D\n",
        "from tensorflow.keras.layers import Input, Dense, Dropout, BatchNormalization, Activation, MaxPool2D\n",
        "import tensorflow_datasets as tfds\n",
        "from tensorflow.keras.models import Model\n",
        "from tensorflow.python.keras.utils.vis_utils import plot_model\n"
      ],
      "execution_count": 1,
      "outputs": []
    },
    {
      "cell_type": "markdown",
      "metadata": {
        "id": "BK1JlDk3HJ2t"
      },
      "source": [
        "# ResNet\n",
        "\n",
        "\n"
      ]
    },
    {
      "cell_type": "code",
      "metadata": {
        "id": "yO4ie1-swtSP"
      },
      "source": [
        "class IdentityBlock(Model):\n",
        "    def __init__(self, filters =64, kernels= 3):\n",
        "        super(IdentityBlock, self).__init__()\n",
        "        self.conv1 = Conv2D(filters, kernel_size=kernels, padding='same')\n",
        "        self.bn1 = BatchNormalization()\n",
        "\n",
        "        self.conv2 = Conv2D(filters, kernel_size=kernels, padding='same')\n",
        "        self.bn2 = BatchNormalization()\n",
        "\n",
        "        self.act = Activation('relu')\n",
        "        self.add = tf.keras.layers.Add()\n",
        "\n",
        "    def call(self, inputs, training=None, mask=None):\n",
        "        x = self.conv1(inputs)\n",
        "        x = self.bn1(x)\n",
        "        x = self.act(x)\n",
        "\n",
        "        x = self.conv2(x)\n",
        "        x = self.bn2(x)\n",
        "        x = self.act(x)\n",
        "        x = self.add([x, inputs])\n",
        "\n",
        "        x = self.act(x)\n",
        "        return x\n"
      ],
      "execution_count": 2,
      "outputs": []
    },
    {
      "cell_type": "code",
      "metadata": {
        "id": "Z4ygfCLL-tiZ"
      },
      "source": [
        "class ResNet(Model):\n",
        "    def __init__(self, classes = 10):\n",
        "        super(ResNet, self).__init__()\n",
        "\n",
        "        self.flat = Flatten()\n",
        "\n",
        "        self.conv = Conv2D(64, kernel_size=7, padding='same')\n",
        "        self.batch = BatchNormalization()\n",
        "        self.act = Activation('relu')\n",
        "        self.max = MaxPool2D((3,3))\n",
        "\n",
        "        self.id1 = IdentityBlock(64, 3)\n",
        "        self.id2 = IdentityBlock(64,3)\n",
        "\n",
        "        self.glob = tf.keras.layers.GlobalAveragePooling2D()\n",
        "        self.classifier = Dense(classes, activation = 'softmax')\n",
        "\n",
        "    def call(self, inputs):\n",
        "        inputs = tf.expand_dims(inputs, axis = -1) #note that conv2d need extra dim for RGB\n",
        "        x = self.conv(inputs)\n",
        "        x = self.batch(x)\n",
        "        x = self.act(x)\n",
        "        x = self.max(x)\n",
        "\n",
        "        x = self.id1(x)\n",
        "        x = self.id2(x)\n",
        "        \n",
        "        x = self.glob(x)\n",
        "        return self.classifier(x)"
      ],
      "execution_count": 17,
      "outputs": []
    },
    {
      "cell_type": "markdown",
      "metadata": {
        "id": "09fDOqs4bzMd"
      },
      "source": [
        "# Data , Mnist"
      ]
    },
    {
      "cell_type": "code",
      "metadata": {
        "colab": {
          "base_uri": "https://localhost:8080/",
          "height": 77
        },
        "id": "908tzM_zYIa8",
        "outputId": "f2d40cbd-cc19-442f-95d2-678af95701cc"
      },
      "source": [
        "mnist = tf.keras.datasets.mnist\n",
        "\n",
        "(x_train, y_train),(x_test, y_test) = mnist.load_data()\n",
        "x_train, x_test = x_train / 255.0, x_test / 255.0\n",
        "\n",
        "## Model\n",
        "\n",
        "mnist_model = ResNet(10)\n",
        "plot_model(mnist_model, show_shapes=True)"
      ],
      "execution_count": 21,
      "outputs": [
        {
          "output_type": "execute_result",
          "data": {
            "image/png": "[encoded data removed]",
            "text/plain": [
              "<IPython.core.display.Image object>"
            ]
          },
          "metadata": {
            "tags": []
          },
          "execution_count": 21
        }
      ]
    },
    {
      "cell_type": "markdown",
      "metadata": {
        "id": "zKtyJ8H44wEe"
      },
      "source": [
        "# Training the Model\n",
        "As mentioned before, inheriting the Model class allows you to make use of the other APIs that Keras provides, such as:\n",
        "\n",
        "training\n",
        "serialization\n",
        "evaluation\n",
        "You can instantiate a Resnet object and train it as usual like below:# \n"
      ]
    },
    {
      "cell_type": "code",
      "metadata": {
        "colab": {
          "base_uri": "https://localhost:8080/"
        },
        "id": "SBvwF22yCCTq",
        "outputId": "ec122321-75aa-444b-cb05-b35f69e24ee2"
      },
      "source": [
        "mnist_model.compile(loss = tf.losses.sparse_categorical_crossentropy,\n",
        "              optimizer=tf.optimizers.RMSprop(),\n",
        "              metrics= ['accuracy'])\n",
        "\n",
        "\n",
        "mnist_model.fit(x_train, y_train, epochs=5)\n"
      ],
      "execution_count": 20,
      "outputs": [
        {
          "output_type": "stream",
          "text": [
            "Epoch 1/5\n",
            "1875/1875 [==============================] - 9s 4ms/step - loss: 0.2803 - accuracy: 0.9261\n",
            "Epoch 2/5\n",
            "1875/1875 [==============================] - 8s 4ms/step - loss: 0.0531 - accuracy: 0.9844\n",
            "Epoch 3/5\n",
            "1875/1875 [==============================] - 7s 4ms/step - loss: 0.0360 - accuracy: 0.9889\n",
            "Epoch 4/5\n",
            "1875/1875 [==============================] - 7s 4ms/step - loss: 0.0295 - accuracy: 0.9908\n",
            "Epoch 5/5\n",
            "1875/1875 [==============================] - 7s 4ms/step - loss: 0.0252 - accuracy: 0.9920\n"
          ],
          "name": "stdout"
        },
        {
          "output_type": "execute_result",
          "data": {
            "text/plain": [
              "<tensorflow.python.keras.callbacks.History at 0x7f0ca8f20128>"
            ]
          },
          "metadata": {
            "tags": []
          },
          "execution_count": 20
        }
      ]
    },
    {
      "cell_type": "code",
      "metadata": {
        "id": "ejAbc1QlJMd3"
      },
      "source": [
        ""
      ],
      "execution_count": null,
      "outputs": []
    }
  ]
}