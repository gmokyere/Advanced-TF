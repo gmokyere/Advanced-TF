{
 "cells": [
  {
   "cell_type": "code",
   "execution_count": 1,
   "id": "wrong-python",
   "metadata": {},
   "outputs": [],
   "source": [
    "import tensorflow as tf\n",
    "from tensorflow.python.keras.utils.vis_utils import plot_model\n",
    "from tensorflow.keras.layers import Input,Dense, Dropout, Lambda, Flatten\n",
    "from tensorflow.keras.models import Model\n",
    "import numpy as np\n",
    "import pandas as pd\n",
    "import matplotlib.pyplot as plt\n",
    "from tensorflow.keras import backend as K\n",
    "\n",
    "from sklearn.model_selection import train_test_split\n",
    "from sklearn.metrics import confusion_matrix\n",
    "import itertools\n",
    "import random"
   ]
  },
  {
   "cell_type": "markdown",
   "id": "superior-warrior",
   "metadata": {},
   "source": [
    "# Pre-process the white wine dataset (TODO)\n",
    "In the whitw wine dataset, you will fill in the column is_r with zeros (0).\n"
   ]
  },
  {
   "cell_type": "code",
   "execution_count": 2,
   "id": "annoying-syndrome",
   "metadata": {},
   "outputs": [],
   "source": [
    "# Please uncomment all lines in this cell and replace those marked with `# YOUR CODE HERE`.\n",
    "# You can select all lines in this code cell with Ctrl+A (Windows/Linux) or Cmd+A (Mac), then press Ctrl+/ (Windows/Linux) or Cmd+/ (Mac) to uncomment.\n",
    "\n",
    "\n",
    "\n",
    "# URL of the white wine dataset\n",
    "URL = 'http://archive.ics.uci.edu/ml/machine-learning-databases/wine-quality/winequality-white.csv'\n",
    "\n",
    "# load the dataset from the URL\n",
    "white_df = pd.read_csv(URL, sep=\";\")\n",
    "\n",
    "# create new column `is_red` and fill with zeros.\n",
    "white_df[\"is_red\"] = 0 # YOUR CODE HERE\n",
    "\n",
    "# keep only the first of duplicate items\n",
    "white_df = white_df.drop_duplicates(keep='first')"
   ]
  },
  {
   "cell_type": "code",
   "execution_count": 3,
   "id": "personalized-formation",
   "metadata": {},
   "outputs": [
    {
     "data": {
      "text/html": [
       "<div>\n",
       "<style scoped>\n",
       "    .dataframe tbody tr th:only-of-type {\n",
       "        vertical-align: middle;\n",
       "    }\n",
       "\n",
       "    .dataframe tbody tr th {\n",
       "        vertical-align: top;\n",
       "    }\n",
       "\n",
       "    .dataframe thead th {\n",
       "        text-align: right;\n",
       "    }\n",
       "</style>\n",
       "<table border=\"1\" class=\"dataframe\">\n",
       "  <thead>\n",
       "    <tr style=\"text-align: right;\">\n",
       "      <th></th>\n",
       "      <th>fixed acidity</th>\n",
       "      <th>volatile acidity</th>\n",
       "      <th>citric acid</th>\n",
       "      <th>residual sugar</th>\n",
       "      <th>chlorides</th>\n",
       "      <th>free sulfur dioxide</th>\n",
       "      <th>total sulfur dioxide</th>\n",
       "      <th>density</th>\n",
       "      <th>pH</th>\n",
       "      <th>sulphates</th>\n",
       "      <th>alcohol</th>\n",
       "      <th>quality</th>\n",
       "      <th>is_red</th>\n",
       "    </tr>\n",
       "  </thead>\n",
       "  <tbody>\n",
       "    <tr>\n",
       "      <th>0</th>\n",
       "      <td>7.0</td>\n",
       "      <td>0.27</td>\n",
       "      <td>0.36</td>\n",
       "      <td>20.7</td>\n",
       "      <td>0.045</td>\n",
       "      <td>45.0</td>\n",
       "      <td>170.0</td>\n",
       "      <td>1.0010</td>\n",
       "      <td>3.00</td>\n",
       "      <td>0.45</td>\n",
       "      <td>8.8</td>\n",
       "      <td>6</td>\n",
       "      <td>0</td>\n",
       "    </tr>\n",
       "    <tr>\n",
       "      <th>1</th>\n",
       "      <td>6.3</td>\n",
       "      <td>0.30</td>\n",
       "      <td>0.34</td>\n",
       "      <td>1.6</td>\n",
       "      <td>0.049</td>\n",
       "      <td>14.0</td>\n",
       "      <td>132.0</td>\n",
       "      <td>0.9940</td>\n",
       "      <td>3.30</td>\n",
       "      <td>0.49</td>\n",
       "      <td>9.5</td>\n",
       "      <td>6</td>\n",
       "      <td>0</td>\n",
       "    </tr>\n",
       "    <tr>\n",
       "      <th>2</th>\n",
       "      <td>8.1</td>\n",
       "      <td>0.28</td>\n",
       "      <td>0.40</td>\n",
       "      <td>6.9</td>\n",
       "      <td>0.050</td>\n",
       "      <td>30.0</td>\n",
       "      <td>97.0</td>\n",
       "      <td>0.9951</td>\n",
       "      <td>3.26</td>\n",
       "      <td>0.44</td>\n",
       "      <td>10.1</td>\n",
       "      <td>6</td>\n",
       "      <td>0</td>\n",
       "    </tr>\n",
       "    <tr>\n",
       "      <th>3</th>\n",
       "      <td>7.2</td>\n",
       "      <td>0.23</td>\n",
       "      <td>0.32</td>\n",
       "      <td>8.5</td>\n",
       "      <td>0.058</td>\n",
       "      <td>47.0</td>\n",
       "      <td>186.0</td>\n",
       "      <td>0.9956</td>\n",
       "      <td>3.19</td>\n",
       "      <td>0.40</td>\n",
       "      <td>9.9</td>\n",
       "      <td>6</td>\n",
       "      <td>0</td>\n",
       "    </tr>\n",
       "    <tr>\n",
       "      <th>6</th>\n",
       "      <td>6.2</td>\n",
       "      <td>0.32</td>\n",
       "      <td>0.16</td>\n",
       "      <td>7.0</td>\n",
       "      <td>0.045</td>\n",
       "      <td>30.0</td>\n",
       "      <td>136.0</td>\n",
       "      <td>0.9949</td>\n",
       "      <td>3.18</td>\n",
       "      <td>0.47</td>\n",
       "      <td>9.6</td>\n",
       "      <td>6</td>\n",
       "      <td>0</td>\n",
       "    </tr>\n",
       "  </tbody>\n",
       "</table>\n",
       "</div>"
      ],
      "text/plain": [
       "   fixed acidity  volatile acidity  citric acid  residual sugar  chlorides  \\\n",
       "0            7.0              0.27         0.36            20.7      0.045   \n",
       "1            6.3              0.30         0.34             1.6      0.049   \n",
       "2            8.1              0.28         0.40             6.9      0.050   \n",
       "3            7.2              0.23         0.32             8.5      0.058   \n",
       "6            6.2              0.32         0.16             7.0      0.045   \n",
       "\n",
       "   free sulfur dioxide  total sulfur dioxide  density    pH  sulphates  \\\n",
       "0                 45.0                 170.0   1.0010  3.00       0.45   \n",
       "1                 14.0                 132.0   0.9940  3.30       0.49   \n",
       "2                 30.0                  97.0   0.9951  3.26       0.44   \n",
       "3                 47.0                 186.0   0.9956  3.19       0.40   \n",
       "6                 30.0                 136.0   0.9949  3.18       0.47   \n",
       "\n",
       "   alcohol  quality  is_red  \n",
       "0      8.8        6       0  \n",
       "1      9.5        6       0  \n",
       "2     10.1        6       0  \n",
       "3      9.9        6       0  \n",
       "6      9.6        6       0  "
      ]
     },
     "execution_count": 3,
     "metadata": {},
     "output_type": "execute_result"
    }
   ],
   "source": [
    "white_df.head()"
   ]
  },
  {
   "cell_type": "code",
   "execution_count": 4,
   "id": "piano-manufacturer",
   "metadata": {},
   "outputs": [
    {
     "name": "stdout",
     "output_type": "stream",
     "text": [
      "8.8\n",
      "9.1\n"
     ]
    }
   ],
   "source": [
    "print(white_df.alcohol[0])\n",
    "print(white_df.alcohol[100])\n",
    "\n",
    "# EXPECTED OUTPUT\n",
    "# 8.8\n",
    "# 9.1"
   ]
  },
  {
   "cell_type": "markdown",
   "id": "competent-landscape",
   "metadata": {},
   "source": [
    "# Pre-process the red wine dataset (TODO)\n",
    "In the red wine dataset, you will fill in the column is_red with ones (1).\n"
   ]
  },
  {
   "cell_type": "code",
   "execution_count": 5,
   "id": "vertical-chicken",
   "metadata": {},
   "outputs": [],
   "source": [
    "# URL of the red wine dataset\n",
    "URL = 'http://archive.ics.uci.edu/ml/machine-learning-databases/wine-quality/winequality-red.csv'\n",
    "\n",
    "# load the dataset from the URL\n",
    "red_df = pd.read_csv(URL, sep=\";\")\n",
    "\n",
    "# create new column `is_red` and fill with ones.\n",
    "red_df[\"is_red\"] = 1 # YOUR CODE HERE\n",
    "\n",
    "# keep only the first of duplicate items\n",
    "red_df = red_df.drop_duplicates(keep='first')"
   ]
  },
  {
   "cell_type": "code",
   "execution_count": 6,
   "id": "inside-absorption",
   "metadata": {},
   "outputs": [
    {
     "data": {
      "text/html": [
       "<div>\n",
       "<style scoped>\n",
       "    .dataframe tbody tr th:only-of-type {\n",
       "        vertical-align: middle;\n",
       "    }\n",
       "\n",
       "    .dataframe tbody tr th {\n",
       "        vertical-align: top;\n",
       "    }\n",
       "\n",
       "    .dataframe thead th {\n",
       "        text-align: right;\n",
       "    }\n",
       "</style>\n",
       "<table border=\"1\" class=\"dataframe\">\n",
       "  <thead>\n",
       "    <tr style=\"text-align: right;\">\n",
       "      <th></th>\n",
       "      <th>fixed acidity</th>\n",
       "      <th>volatile acidity</th>\n",
       "      <th>citric acid</th>\n",
       "      <th>residual sugar</th>\n",
       "      <th>chlorides</th>\n",
       "      <th>free sulfur dioxide</th>\n",
       "      <th>total sulfur dioxide</th>\n",
       "      <th>density</th>\n",
       "      <th>pH</th>\n",
       "      <th>sulphates</th>\n",
       "      <th>alcohol</th>\n",
       "      <th>quality</th>\n",
       "      <th>is_red</th>\n",
       "    </tr>\n",
       "  </thead>\n",
       "  <tbody>\n",
       "    <tr>\n",
       "      <th>0</th>\n",
       "      <td>7.4</td>\n",
       "      <td>0.70</td>\n",
       "      <td>0.00</td>\n",
       "      <td>1.9</td>\n",
       "      <td>0.076</td>\n",
       "      <td>11.0</td>\n",
       "      <td>34.0</td>\n",
       "      <td>0.9978</td>\n",
       "      <td>3.51</td>\n",
       "      <td>0.56</td>\n",
       "      <td>9.4</td>\n",
       "      <td>5</td>\n",
       "      <td>1</td>\n",
       "    </tr>\n",
       "    <tr>\n",
       "      <th>1</th>\n",
       "      <td>7.8</td>\n",
       "      <td>0.88</td>\n",
       "      <td>0.00</td>\n",
       "      <td>2.6</td>\n",
       "      <td>0.098</td>\n",
       "      <td>25.0</td>\n",
       "      <td>67.0</td>\n",
       "      <td>0.9968</td>\n",
       "      <td>3.20</td>\n",
       "      <td>0.68</td>\n",
       "      <td>9.8</td>\n",
       "      <td>5</td>\n",
       "      <td>1</td>\n",
       "    </tr>\n",
       "    <tr>\n",
       "      <th>2</th>\n",
       "      <td>7.8</td>\n",
       "      <td>0.76</td>\n",
       "      <td>0.04</td>\n",
       "      <td>2.3</td>\n",
       "      <td>0.092</td>\n",
       "      <td>15.0</td>\n",
       "      <td>54.0</td>\n",
       "      <td>0.9970</td>\n",
       "      <td>3.26</td>\n",
       "      <td>0.65</td>\n",
       "      <td>9.8</td>\n",
       "      <td>5</td>\n",
       "      <td>1</td>\n",
       "    </tr>\n",
       "    <tr>\n",
       "      <th>3</th>\n",
       "      <td>11.2</td>\n",
       "      <td>0.28</td>\n",
       "      <td>0.56</td>\n",
       "      <td>1.9</td>\n",
       "      <td>0.075</td>\n",
       "      <td>17.0</td>\n",
       "      <td>60.0</td>\n",
       "      <td>0.9980</td>\n",
       "      <td>3.16</td>\n",
       "      <td>0.58</td>\n",
       "      <td>9.8</td>\n",
       "      <td>6</td>\n",
       "      <td>1</td>\n",
       "    </tr>\n",
       "    <tr>\n",
       "      <th>5</th>\n",
       "      <td>7.4</td>\n",
       "      <td>0.66</td>\n",
       "      <td>0.00</td>\n",
       "      <td>1.8</td>\n",
       "      <td>0.075</td>\n",
       "      <td>13.0</td>\n",
       "      <td>40.0</td>\n",
       "      <td>0.9978</td>\n",
       "      <td>3.51</td>\n",
       "      <td>0.56</td>\n",
       "      <td>9.4</td>\n",
       "      <td>5</td>\n",
       "      <td>1</td>\n",
       "    </tr>\n",
       "  </tbody>\n",
       "</table>\n",
       "</div>"
      ],
      "text/plain": [
       "   fixed acidity  volatile acidity  citric acid  residual sugar  chlorides  \\\n",
       "0            7.4              0.70         0.00             1.9      0.076   \n",
       "1            7.8              0.88         0.00             2.6      0.098   \n",
       "2            7.8              0.76         0.04             2.3      0.092   \n",
       "3           11.2              0.28         0.56             1.9      0.075   \n",
       "5            7.4              0.66         0.00             1.8      0.075   \n",
       "\n",
       "   free sulfur dioxide  total sulfur dioxide  density    pH  sulphates  \\\n",
       "0                 11.0                  34.0   0.9978  3.51       0.56   \n",
       "1                 25.0                  67.0   0.9968  3.20       0.68   \n",
       "2                 15.0                  54.0   0.9970  3.26       0.65   \n",
       "3                 17.0                  60.0   0.9980  3.16       0.58   \n",
       "5                 13.0                  40.0   0.9978  3.51       0.56   \n",
       "\n",
       "   alcohol  quality  is_red  \n",
       "0      9.4        5       1  \n",
       "1      9.8        5       1  \n",
       "2      9.8        5       1  \n",
       "3      9.8        6       1  \n",
       "5      9.4        5       1  "
      ]
     },
     "execution_count": 6,
     "metadata": {},
     "output_type": "execute_result"
    }
   ],
   "source": [
    "red_df.head()"
   ]
  },
  {
   "cell_type": "code",
   "execution_count": 7,
   "id": "arctic-priority",
   "metadata": {},
   "outputs": [
    {
     "name": "stdout",
     "output_type": "stream",
     "text": [
      "9.4\n",
      "10.2\n"
     ]
    }
   ],
   "source": [
    "print(red_df.alcohol[0])\n",
    "print(red_df.alcohol[100])\n",
    "\n",
    "# EXPECTED OUTPUT\n",
    "# 9.4\n",
    "# 10.2"
   ]
  },
  {
   "cell_type": "markdown",
   "id": "assigned-spiritual",
   "metadata": {},
   "source": [
    "## Concatenate the datasets\n",
    "Next, concatenate the red and white wine dataframes.\n",
    "\n"
   ]
  },
  {
   "cell_type": "code",
   "execution_count": 8,
   "id": "ignored-worse",
   "metadata": {},
   "outputs": [],
   "source": [
    "df = pd.concat([red_df, white_df], ignore_index=True)"
   ]
  },
  {
   "cell_type": "code",
   "execution_count": 9,
   "id": "sitting-psychiatry",
   "metadata": {},
   "outputs": [
    {
     "data": {
      "text/html": [
       "<div>\n",
       "<style scoped>\n",
       "    .dataframe tbody tr th:only-of-type {\n",
       "        vertical-align: middle;\n",
       "    }\n",
       "\n",
       "    .dataframe tbody tr th {\n",
       "        vertical-align: top;\n",
       "    }\n",
       "\n",
       "    .dataframe thead th {\n",
       "        text-align: right;\n",
       "    }\n",
       "</style>\n",
       "<table border=\"1\" class=\"dataframe\">\n",
       "  <thead>\n",
       "    <tr style=\"text-align: right;\">\n",
       "      <th></th>\n",
       "      <th>fixed acidity</th>\n",
       "      <th>volatile acidity</th>\n",
       "      <th>citric acid</th>\n",
       "      <th>residual sugar</th>\n",
       "      <th>chlorides</th>\n",
       "      <th>free sulfur dioxide</th>\n",
       "      <th>total sulfur dioxide</th>\n",
       "      <th>density</th>\n",
       "      <th>pH</th>\n",
       "      <th>sulphates</th>\n",
       "      <th>alcohol</th>\n",
       "      <th>quality</th>\n",
       "      <th>is_red</th>\n",
       "    </tr>\n",
       "  </thead>\n",
       "  <tbody>\n",
       "    <tr>\n",
       "      <th>0</th>\n",
       "      <td>7.4</td>\n",
       "      <td>0.70</td>\n",
       "      <td>0.00</td>\n",
       "      <td>1.9</td>\n",
       "      <td>0.076</td>\n",
       "      <td>11.0</td>\n",
       "      <td>34.0</td>\n",
       "      <td>0.9978</td>\n",
       "      <td>3.51</td>\n",
       "      <td>0.56</td>\n",
       "      <td>9.4</td>\n",
       "      <td>5</td>\n",
       "      <td>1</td>\n",
       "    </tr>\n",
       "    <tr>\n",
       "      <th>1</th>\n",
       "      <td>7.8</td>\n",
       "      <td>0.88</td>\n",
       "      <td>0.00</td>\n",
       "      <td>2.6</td>\n",
       "      <td>0.098</td>\n",
       "      <td>25.0</td>\n",
       "      <td>67.0</td>\n",
       "      <td>0.9968</td>\n",
       "      <td>3.20</td>\n",
       "      <td>0.68</td>\n",
       "      <td>9.8</td>\n",
       "      <td>5</td>\n",
       "      <td>1</td>\n",
       "    </tr>\n",
       "    <tr>\n",
       "      <th>2</th>\n",
       "      <td>7.8</td>\n",
       "      <td>0.76</td>\n",
       "      <td>0.04</td>\n",
       "      <td>2.3</td>\n",
       "      <td>0.092</td>\n",
       "      <td>15.0</td>\n",
       "      <td>54.0</td>\n",
       "      <td>0.9970</td>\n",
       "      <td>3.26</td>\n",
       "      <td>0.65</td>\n",
       "      <td>9.8</td>\n",
       "      <td>5</td>\n",
       "      <td>1</td>\n",
       "    </tr>\n",
       "    <tr>\n",
       "      <th>3</th>\n",
       "      <td>11.2</td>\n",
       "      <td>0.28</td>\n",
       "      <td>0.56</td>\n",
       "      <td>1.9</td>\n",
       "      <td>0.075</td>\n",
       "      <td>17.0</td>\n",
       "      <td>60.0</td>\n",
       "      <td>0.9980</td>\n",
       "      <td>3.16</td>\n",
       "      <td>0.58</td>\n",
       "      <td>9.8</td>\n",
       "      <td>6</td>\n",
       "      <td>1</td>\n",
       "    </tr>\n",
       "    <tr>\n",
       "      <th>4</th>\n",
       "      <td>7.4</td>\n",
       "      <td>0.66</td>\n",
       "      <td>0.00</td>\n",
       "      <td>1.8</td>\n",
       "      <td>0.075</td>\n",
       "      <td>13.0</td>\n",
       "      <td>40.0</td>\n",
       "      <td>0.9978</td>\n",
       "      <td>3.51</td>\n",
       "      <td>0.56</td>\n",
       "      <td>9.4</td>\n",
       "      <td>5</td>\n",
       "      <td>1</td>\n",
       "    </tr>\n",
       "  </tbody>\n",
       "</table>\n",
       "</div>"
      ],
      "text/plain": [
       "   fixed acidity  volatile acidity  citric acid  residual sugar  chlorides  \\\n",
       "0            7.4              0.70         0.00             1.9      0.076   \n",
       "1            7.8              0.88         0.00             2.6      0.098   \n",
       "2            7.8              0.76         0.04             2.3      0.092   \n",
       "3           11.2              0.28         0.56             1.9      0.075   \n",
       "4            7.4              0.66         0.00             1.8      0.075   \n",
       "\n",
       "   free sulfur dioxide  total sulfur dioxide  density    pH  sulphates  \\\n",
       "0                 11.0                  34.0   0.9978  3.51       0.56   \n",
       "1                 25.0                  67.0   0.9968  3.20       0.68   \n",
       "2                 15.0                  54.0   0.9970  3.26       0.65   \n",
       "3                 17.0                  60.0   0.9980  3.16       0.58   \n",
       "4                 13.0                  40.0   0.9978  3.51       0.56   \n",
       "\n",
       "   alcohol  quality  is_red  \n",
       "0      9.4        5       1  \n",
       "1      9.8        5       1  \n",
       "2      9.8        5       1  \n",
       "3      9.8        6       1  \n",
       "4      9.4        5       1  "
      ]
     },
     "execution_count": 9,
     "metadata": {},
     "output_type": "execute_result"
    }
   ],
   "source": [
    "# NOTE: In a real-world scenario, you should shuffle the data.\n",
    "# YOU ARE NOT going to do that here because we want to test\n",
    "# with deterministic data. But if you want the code to do it,\n",
    "# it's in the commented line below:\n",
    "\n",
    "#df = df.iloc[np.random.permutation(len(df))]\n",
    "\n",
    "#df = df.sample(frac=1).reset_index(drop= True)\n",
    "df.head()"
   ]
  },
  {
   "cell_type": "code",
   "execution_count": 10,
   "id": "cooperative-dependence",
   "metadata": {
    "scrolled": true
   },
   "outputs": [
    {
     "data": {
      "text/plain": [
       "<AxesSubplot:>"
      ]
     },
     "execution_count": 10,
     "metadata": {},
     "output_type": "execute_result"
    },
    {
     "data": {
      "image/png": "[encoded data removed]",
      "text/plain": [
       "<Figure size 432x288 with 1 Axes>"
      ]
     },
     "metadata": {
      "needs_background": "light"
     },
     "output_type": "display_data"
    }
   ],
   "source": [
    "df['quality'].hist(bins = 20)"
   ]
  },
  {
   "cell_type": "markdown",
   "id": "prompt-inquiry",
   "metadata": {},
   "source": [
    "\n",
    "# Imbalanced data (TODO)\n",
    "You can see from the plot above that the wine quality dataset is imbalanced.\n",
    "\n",
    "    Since there are very few observations with quality equal to 3, 4, 8 and 9, you can drop these observations from your dataset.\n",
    "    You can do this by removing data belonging to all classes except those > 4 and < 8."
   ]
  },
  {
   "cell_type": "code",
   "execution_count": 11,
   "id": "surprised-breath",
   "metadata": {},
   "outputs": [],
   "source": [
    "# get data with wine quality greater than 4 and less than 8\n",
    "df = df[(df['quality'] > 4) & (df['quality'] < 8)]\n",
    "\n",
    "# reset index and drop the old one\n",
    "df = df.reset_index(drop=True)"
   ]
  },
  {
   "cell_type": "code",
   "execution_count": 12,
   "id": "gross-master",
   "metadata": {},
   "outputs": [
    {
     "name": "stdout",
     "output_type": "stream",
     "text": [
      "9.4\n",
      "10.9\n"
     ]
    }
   ],
   "source": [
    "\n",
    "print(df.alcohol[0])\n",
    "print(df.alcohol[100])\n",
    "\n",
    "# EXPECTED OUTPUT\n",
    "# 9.4\n",
    "# 9.5"
   ]
  },
  {
   "cell_type": "code",
   "execution_count": 13,
   "id": "western-recipe",
   "metadata": {},
   "outputs": [
    {
     "data": {
      "text/plain": [
       "<AxesSubplot:>"
      ]
     },
     "execution_count": 13,
     "metadata": {},
     "output_type": "execute_result"
    },
    {
     "data": {
      "image/png": "[encoded data removed]",
      "text/plain": [
       "<Figure size 432x288 with 1 Axes>"
      ]
     },
     "metadata": {
      "needs_background": "light"
     },
     "output_type": "display_data"
    }
   ],
   "source": [
    "df['quality'].hist(bins = 20)"
   ]
  },
  {
   "cell_type": "markdown",
   "id": "velvet-production",
   "metadata": {},
   "source": [
    "# Train Test Split (TODO)\n",
    "Next, you can split the datasets into training, test and validation datasets.\n",
    "\n",
    "    -The data frame should be split 80:20 into train and test sets.\n",
    "    -The resulting train should then be split 80:20 into train and val sets.\n",
    "    -The train_test_split parameter test_size takes a float value that ranges between 0. and 1, and represents the proportion of the dataset that is allocated to the test set. The rest of the data is allocated to the training set.\n"
   ]
  },
  {
   "cell_type": "code",
   "execution_count": 14,
   "id": "lucky-laptop",
   "metadata": {},
   "outputs": [],
   "source": [
    "# split df into 80:20 train and test sets\n",
    "train, test = train_test_split(df, test_size=0.2, random_state = 1)\n",
    "                               \n",
    "# split train into 80:20 train and val sets\n",
    "train, val = train_test_split(train, test_size=0.2, random_state = 1)"
   ]
  },
  {
   "cell_type": "code",
   "execution_count": 15,
   "id": "proper-instrument",
   "metadata": {},
   "outputs": [],
   "source": [
    "def format_output(data):\n",
    "    is_red = data.pop('is_red')\n",
    "    is_red = np.array(is_red)\n",
    "    quality = data.pop('quality')\n",
    "    quality = np.array(quality)\n",
    "    return (quality, is_red)"
   ]
  },
  {
   "cell_type": "code",
   "execution_count": 16,
   "id": "reported-vanilla",
   "metadata": {},
   "outputs": [],
   "source": [
    "train_y = format_output(train)\n",
    "val_y = format_output(val)\n",
    "test_y = format_output(test)"
   ]
  },
  {
   "cell_type": "code",
   "execution_count": 17,
   "id": "infectious-turkey",
   "metadata": {},
   "outputs": [
    {
     "data": {
      "text/plain": [
       "(array([5, 6, 5, ..., 6, 5, 5]), array([1, 0, 0, ..., 1, 1, 0]))"
      ]
     },
     "execution_count": 17,
     "metadata": {},
     "output_type": "execute_result"
    }
   ],
   "source": [
    "train_y"
   ]
  },
  {
   "cell_type": "code",
   "execution_count": 18,
   "id": "separate-partition",
   "metadata": {},
   "outputs": [
    {
     "data": {
      "text/html": [
       "<div>\n",
       "<style scoped>\n",
       "    .dataframe tbody tr th:only-of-type {\n",
       "        vertical-align: middle;\n",
       "    }\n",
       "\n",
       "    .dataframe tbody tr th {\n",
       "        vertical-align: top;\n",
       "    }\n",
       "\n",
       "    .dataframe thead th {\n",
       "        text-align: right;\n",
       "    }\n",
       "</style>\n",
       "<table border=\"1\" class=\"dataframe\">\n",
       "  <thead>\n",
       "    <tr style=\"text-align: right;\">\n",
       "      <th></th>\n",
       "      <th>fixed acidity</th>\n",
       "      <th>volatile acidity</th>\n",
       "      <th>citric acid</th>\n",
       "      <th>residual sugar</th>\n",
       "      <th>chlorides</th>\n",
       "      <th>free sulfur dioxide</th>\n",
       "      <th>total sulfur dioxide</th>\n",
       "      <th>density</th>\n",
       "      <th>pH</th>\n",
       "      <th>sulphates</th>\n",
       "      <th>alcohol</th>\n",
       "    </tr>\n",
       "  </thead>\n",
       "  <tbody>\n",
       "    <tr>\n",
       "      <th>225</th>\n",
       "      <td>7.5</td>\n",
       "      <td>0.65</td>\n",
       "      <td>0.18</td>\n",
       "      <td>7.0</td>\n",
       "      <td>0.088</td>\n",
       "      <td>27.0</td>\n",
       "      <td>94.0</td>\n",
       "      <td>0.99915</td>\n",
       "      <td>3.38</td>\n",
       "      <td>0.77</td>\n",
       "      <td>9.4</td>\n",
       "    </tr>\n",
       "    <tr>\n",
       "      <th>3557</th>\n",
       "      <td>6.3</td>\n",
       "      <td>0.27</td>\n",
       "      <td>0.29</td>\n",
       "      <td>12.2</td>\n",
       "      <td>0.044</td>\n",
       "      <td>59.0</td>\n",
       "      <td>196.0</td>\n",
       "      <td>0.99782</td>\n",
       "      <td>3.14</td>\n",
       "      <td>0.40</td>\n",
       "      <td>8.8</td>\n",
       "    </tr>\n",
       "    <tr>\n",
       "      <th>3825</th>\n",
       "      <td>8.8</td>\n",
       "      <td>0.27</td>\n",
       "      <td>0.25</td>\n",
       "      <td>5.0</td>\n",
       "      <td>0.024</td>\n",
       "      <td>52.0</td>\n",
       "      <td>99.0</td>\n",
       "      <td>0.99250</td>\n",
       "      <td>2.87</td>\n",
       "      <td>0.49</td>\n",
       "      <td>11.4</td>\n",
       "    </tr>\n",
       "    <tr>\n",
       "      <th>1740</th>\n",
       "      <td>6.4</td>\n",
       "      <td>0.45</td>\n",
       "      <td>0.07</td>\n",
       "      <td>1.1</td>\n",
       "      <td>0.030</td>\n",
       "      <td>10.0</td>\n",
       "      <td>131.0</td>\n",
       "      <td>0.99050</td>\n",
       "      <td>2.97</td>\n",
       "      <td>0.28</td>\n",
       "      <td>10.8</td>\n",
       "    </tr>\n",
       "    <tr>\n",
       "      <th>1221</th>\n",
       "      <td>7.2</td>\n",
       "      <td>0.53</td>\n",
       "      <td>0.13</td>\n",
       "      <td>2.0</td>\n",
       "      <td>0.058</td>\n",
       "      <td>18.0</td>\n",
       "      <td>22.0</td>\n",
       "      <td>0.99573</td>\n",
       "      <td>3.21</td>\n",
       "      <td>0.68</td>\n",
       "      <td>9.9</td>\n",
       "    </tr>\n",
       "  </tbody>\n",
       "</table>\n",
       "</div>"
      ],
      "text/plain": [
       "      fixed acidity  volatile acidity  citric acid  residual sugar  chlorides  \\\n",
       "225             7.5              0.65         0.18             7.0      0.088   \n",
       "3557            6.3              0.27         0.29            12.2      0.044   \n",
       "3825            8.8              0.27         0.25             5.0      0.024   \n",
       "1740            6.4              0.45         0.07             1.1      0.030   \n",
       "1221            7.2              0.53         0.13             2.0      0.058   \n",
       "\n",
       "      free sulfur dioxide  total sulfur dioxide  density    pH  sulphates  \\\n",
       "225                  27.0                  94.0  0.99915  3.38       0.77   \n",
       "3557                 59.0                 196.0  0.99782  3.14       0.40   \n",
       "3825                 52.0                  99.0  0.99250  2.87       0.49   \n",
       "1740                 10.0                 131.0  0.99050  2.97       0.28   \n",
       "1221                 18.0                  22.0  0.99573  3.21       0.68   \n",
       "\n",
       "      alcohol  \n",
       "225       9.4  \n",
       "3557      8.8  \n",
       "3825     11.4  \n",
       "1740     10.8  \n",
       "1221      9.9  "
      ]
     },
     "execution_count": 18,
     "metadata": {},
     "output_type": "execute_result"
    }
   ],
   "source": [
    "train.head()"
   ]
  },
  {
   "cell_type": "markdown",
   "id": "union-circuit",
   "metadata": {},
   "source": [
    "Notice that after you get the labels, the train, val and test dataframes no longer contain the label columns, and contain just the feature columns.\n",
    "\n",
    "This is because you used .pop in the format_output function."
   ]
  },
  {
   "cell_type": "code",
   "execution_count": 19,
   "id": "covered-secondary",
   "metadata": {},
   "outputs": [],
   "source": [
    "def normalize(x):\n",
    "    return np.array((x-train_stats['mean'])/train_stats['std'])\n"
   ]
  },
  {
   "cell_type": "code",
   "execution_count": 20,
   "id": "applied-headquarters",
   "metadata": {},
   "outputs": [],
   "source": [
    "train_stats = train.describe()\n",
    "train_stats = train_stats.transpose()"
   ]
  },
  {
   "cell_type": "code",
   "execution_count": 21,
   "id": "sexual-palmer",
   "metadata": {},
   "outputs": [
    {
     "data": {
      "text/html": [
       "<div>\n",
       "<style scoped>\n",
       "    .dataframe tbody tr th:only-of-type {\n",
       "        vertical-align: middle;\n",
       "    }\n",
       "\n",
       "    .dataframe tbody tr th {\n",
       "        vertical-align: top;\n",
       "    }\n",
       "\n",
       "    .dataframe thead th {\n",
       "        text-align: right;\n",
       "    }\n",
       "</style>\n",
       "<table border=\"1\" class=\"dataframe\">\n",
       "  <thead>\n",
       "    <tr style=\"text-align: right;\">\n",
       "      <th></th>\n",
       "      <th>count</th>\n",
       "      <th>mean</th>\n",
       "      <th>std</th>\n",
       "      <th>min</th>\n",
       "      <th>25%</th>\n",
       "      <th>50%</th>\n",
       "      <th>75%</th>\n",
       "      <th>max</th>\n",
       "    </tr>\n",
       "  </thead>\n",
       "  <tbody>\n",
       "    <tr>\n",
       "      <th>fixed acidity</th>\n",
       "      <td>3155.0</td>\n",
       "      <td>7.221616</td>\n",
       "      <td>1.325297</td>\n",
       "      <td>3.80000</td>\n",
       "      <td>6.40000</td>\n",
       "      <td>7.00000</td>\n",
       "      <td>7.7000</td>\n",
       "      <td>15.60000</td>\n",
       "    </tr>\n",
       "    <tr>\n",
       "      <th>volatile acidity</th>\n",
       "      <td>3155.0</td>\n",
       "      <td>0.338929</td>\n",
       "      <td>0.162476</td>\n",
       "      <td>0.08000</td>\n",
       "      <td>0.23000</td>\n",
       "      <td>0.29000</td>\n",
       "      <td>0.4000</td>\n",
       "      <td>1.24000</td>\n",
       "    </tr>\n",
       "    <tr>\n",
       "      <th>citric acid</th>\n",
       "      <td>3155.0</td>\n",
       "      <td>0.321569</td>\n",
       "      <td>0.147970</td>\n",
       "      <td>0.00000</td>\n",
       "      <td>0.25000</td>\n",
       "      <td>0.31000</td>\n",
       "      <td>0.4000</td>\n",
       "      <td>1.66000</td>\n",
       "    </tr>\n",
       "    <tr>\n",
       "      <th>residual sugar</th>\n",
       "      <td>3155.0</td>\n",
       "      <td>5.155911</td>\n",
       "      <td>4.639632</td>\n",
       "      <td>0.60000</td>\n",
       "      <td>1.80000</td>\n",
       "      <td>2.80000</td>\n",
       "      <td>7.6500</td>\n",
       "      <td>65.80000</td>\n",
       "    </tr>\n",
       "    <tr>\n",
       "      <th>chlorides</th>\n",
       "      <td>3155.0</td>\n",
       "      <td>0.056976</td>\n",
       "      <td>0.036802</td>\n",
       "      <td>0.01200</td>\n",
       "      <td>0.03800</td>\n",
       "      <td>0.04700</td>\n",
       "      <td>0.0660</td>\n",
       "      <td>0.61100</td>\n",
       "    </tr>\n",
       "    <tr>\n",
       "      <th>free sulfur dioxide</th>\n",
       "      <td>3155.0</td>\n",
       "      <td>30.388590</td>\n",
       "      <td>17.236784</td>\n",
       "      <td>1.00000</td>\n",
       "      <td>17.00000</td>\n",
       "      <td>28.00000</td>\n",
       "      <td>41.0000</td>\n",
       "      <td>131.00000</td>\n",
       "    </tr>\n",
       "    <tr>\n",
       "      <th>total sulfur dioxide</th>\n",
       "      <td>3155.0</td>\n",
       "      <td>115.062282</td>\n",
       "      <td>56.706617</td>\n",
       "      <td>6.00000</td>\n",
       "      <td>75.00000</td>\n",
       "      <td>117.00000</td>\n",
       "      <td>156.0000</td>\n",
       "      <td>344.00000</td>\n",
       "    </tr>\n",
       "    <tr>\n",
       "      <th>density</th>\n",
       "      <td>3155.0</td>\n",
       "      <td>0.994633</td>\n",
       "      <td>0.003005</td>\n",
       "      <td>0.98711</td>\n",
       "      <td>0.99232</td>\n",
       "      <td>0.99481</td>\n",
       "      <td>0.9968</td>\n",
       "      <td>1.03898</td>\n",
       "    </tr>\n",
       "    <tr>\n",
       "      <th>pH</th>\n",
       "      <td>3155.0</td>\n",
       "      <td>3.223201</td>\n",
       "      <td>0.161272</td>\n",
       "      <td>2.72000</td>\n",
       "      <td>3.11000</td>\n",
       "      <td>3.21000</td>\n",
       "      <td>3.3300</td>\n",
       "      <td>4.01000</td>\n",
       "    </tr>\n",
       "    <tr>\n",
       "      <th>sulphates</th>\n",
       "      <td>3155.0</td>\n",
       "      <td>0.534051</td>\n",
       "      <td>0.149149</td>\n",
       "      <td>0.22000</td>\n",
       "      <td>0.43000</td>\n",
       "      <td>0.51000</td>\n",
       "      <td>0.6000</td>\n",
       "      <td>1.95000</td>\n",
       "    </tr>\n",
       "    <tr>\n",
       "      <th>alcohol</th>\n",
       "      <td>3155.0</td>\n",
       "      <td>10.504466</td>\n",
       "      <td>1.154654</td>\n",
       "      <td>8.50000</td>\n",
       "      <td>9.50000</td>\n",
       "      <td>10.30000</td>\n",
       "      <td>11.3000</td>\n",
       "      <td>14.00000</td>\n",
       "    </tr>\n",
       "  </tbody>\n",
       "</table>\n",
       "</div>"
      ],
      "text/plain": [
       "                       count        mean        std      min       25%  \\\n",
       "fixed acidity         3155.0    7.221616   1.325297  3.80000   6.40000   \n",
       "volatile acidity      3155.0    0.338929   0.162476  0.08000   0.23000   \n",
       "citric acid           3155.0    0.321569   0.147970  0.00000   0.25000   \n",
       "residual sugar        3155.0    5.155911   4.639632  0.60000   1.80000   \n",
       "chlorides             3155.0    0.056976   0.036802  0.01200   0.03800   \n",
       "free sulfur dioxide   3155.0   30.388590  17.236784  1.00000  17.00000   \n",
       "total sulfur dioxide  3155.0  115.062282  56.706617  6.00000  75.00000   \n",
       "density               3155.0    0.994633   0.003005  0.98711   0.99232   \n",
       "pH                    3155.0    3.223201   0.161272  2.72000   3.11000   \n",
       "sulphates             3155.0    0.534051   0.149149  0.22000   0.43000   \n",
       "alcohol               3155.0   10.504466   1.154654  8.50000   9.50000   \n",
       "\n",
       "                            50%       75%        max  \n",
       "fixed acidity           7.00000    7.7000   15.60000  \n",
       "volatile acidity        0.29000    0.4000    1.24000  \n",
       "citric acid             0.31000    0.4000    1.66000  \n",
       "residual sugar          2.80000    7.6500   65.80000  \n",
       "chlorides               0.04700    0.0660    0.61100  \n",
       "free sulfur dioxide    28.00000   41.0000  131.00000  \n",
       "total sulfur dioxide  117.00000  156.0000  344.00000  \n",
       "density                 0.99481    0.9968    1.03898  \n",
       "pH                      3.21000    3.3300    4.01000  \n",
       "sulphates               0.51000    0.6000    1.95000  \n",
       "alcohol                10.30000   11.3000   14.00000  "
      ]
     },
     "execution_count": 21,
     "metadata": {},
     "output_type": "execute_result"
    }
   ],
   "source": [
    "train_stats"
   ]
  },
  {
   "cell_type": "code",
   "execution_count": 22,
   "id": "recorded-cameroon",
   "metadata": {},
   "outputs": [],
   "source": [
    "train_norm = normalize(train)\n",
    "val_norm = normalize(val)\n",
    "test_norm = normalize(test)"
   ]
  },
  {
   "cell_type": "code",
   "execution_count": 23,
   "id": "blank-wonder",
   "metadata": {},
   "outputs": [
    {
     "data": {
      "image/png": "[encoded data removed]",
      "text/plain": [
       "<IPython.core.display.Image object>"
      ]
     },
     "execution_count": 23,
     "metadata": {},
     "output_type": "execute_result"
    }
   ],
   "source": [
    "def base_model(inputs):\n",
    "    x = Dense(128, activation='relu')(inputs)\n",
    "    x = Dense(128, activation='relu')(x)\n",
    "    return x\n",
    "\n",
    "\n",
    "def final_model(inputs):\n",
    "    x = base_model(inputs)\n",
    "    wine_type = Dense(1, activation='sigmoid', name='wine_type')(x)\n",
    "    win_quality = Dense(1, name='wine_quality')(x)\n",
    "\n",
    "    model = Model(inputs=inputs, outputs=[win_quality, wine_type])\n",
    "    return model\n",
    "\n",
    "\n",
    "input1 = Input(shape=(11,))\n",
    "model = final_model(input1)\n",
    "model.compile(loss = {'wine_type': tf.losses.binary_crossentropy, 'wine_quality': 'mse'},\n",
    "              optimizer= tf.optimizers.RMSprop(learning_rate=0.0001),\n",
    "              metrics= {'wine_type': 'accuracy' })#, 'wine_quality': tf.metrics.RootMeanSquaredError() })\n",
    "\n",
    "\n",
    "\n",
    "plot_model(model, show_shapes=True)\n"
   ]
  },
  {
   "cell_type": "code",
   "execution_count": 24,
   "id": "national-leather",
   "metadata": {},
   "outputs": [
    {
     "data": {
      "text/plain": [
       "(3155, 11)"
      ]
     },
     "execution_count": 24,
     "metadata": {},
     "output_type": "execute_result"
    }
   ],
   "source": [
    "train_norm.shape"
   ]
  },
  {
   "cell_type": "code",
   "execution_count": 25,
   "id": "colonial-alias",
   "metadata": {
    "scrolled": true
   },
   "outputs": [
    {
     "name": "stdout",
     "output_type": "stream",
     "text": [
      "Train on 3155 samples, validate on 789 samples\n",
      "Epoch 1/100\n",
      "3155/3155 [==============================] - 2s 691us/sample - loss: 23.7639 - wine_quality_loss: 23.0626 - wine_type_loss: 0.6680 - wine_type_accuracy: 0.6206 - val_loss: 16.3557 - val_wine_quality_loss: 15.7344 - val_wine_type_loss: 0.6454 - val_wine_type_accuracy: 0.7465\n",
      "Epoch 2/100\n",
      "3155/3155 [==============================] - 0s 130us/sample - loss: 10.5699 - wine_quality_loss: 9.9430 - wine_type_loss: 0.6103 - wine_type_accuracy: 0.7585 - val_loss: 6.0683 - val_wine_quality_loss: 5.5423 - val_wine_type_loss: 0.5766 - val_wine_type_accuracy: 0.7376\n",
      "Epoch 3/100\n",
      "3155/3155 [==============================] - 0s 131us/sample - loss: 4.0381 - wine_quality_loss: 3.5101 - wine_type_loss: 0.5227 - wine_type_accuracy: 0.7559 - val_loss: 2.7288 - val_wine_quality_loss: 2.2943 - val_wine_type_loss: 0.4773 - val_wine_type_accuracy: 0.7579\n",
      "Epoch 4/100\n",
      "3155/3155 [==============================] - 0s 132us/sample - loss: 2.5407 - wine_quality_loss: 2.1209 - wine_type_loss: 0.4182 - wine_type_accuracy: 0.8022 - val_loss: 2.2506 - val_wine_quality_loss: 1.8968 - val_wine_type_loss: 0.3803 - val_wine_type_accuracy: 0.8352\n",
      "Epoch 5/100\n",
      "3155/3155 [==============================] - 0s 131us/sample - loss: 2.1681 - wine_quality_loss: 1.8326 - wine_type_loss: 0.3327 - wine_type_accuracy: 0.8691 - val_loss: 1.9970 - val_wine_quality_loss: 1.7114 - val_wine_type_loss: 0.3025 - val_wine_type_accuracy: 0.9176\n",
      "Epoch 6/100\n",
      "3155/3155 [==============================] - 0s 132us/sample - loss: 1.9206 - wine_quality_loss: 1.6616 - wine_type_loss: 0.2632 - wine_type_accuracy: 0.9391 - val_loss: 1.7953 - val_wine_quality_loss: 1.5677 - val_wine_type_loss: 0.2382 - val_wine_type_accuracy: 0.9683\n",
      "Epoch 7/100\n",
      "3155/3155 [==============================] - 0s 130us/sample - loss: 1.7324 - wine_quality_loss: 1.5299 - wine_type_loss: 0.2097 - wine_type_accuracy: 0.9702 - val_loss: 1.6356 - val_wine_quality_loss: 1.4498 - val_wine_type_loss: 0.1919 - val_wine_type_accuracy: 0.9810\n",
      "Epoch 8/100\n",
      "3155/3155 [==============================] - 0s 130us/sample - loss: 1.5765 - wine_quality_loss: 1.4073 - wine_type_loss: 0.1696 - wine_type_accuracy: 0.9797 - val_loss: 1.4943 - val_wine_quality_loss: 1.3408 - val_wine_type_loss: 0.1571 - val_wine_type_accuracy: 0.9848\n",
      "Epoch 9/100\n",
      "3155/3155 [==============================] - 0s 129us/sample - loss: 1.4490 - wine_quality_loss: 1.3093 - wine_type_loss: 0.1402 - wine_type_accuracy: 0.9867 - val_loss: 1.4014 - val_wine_quality_loss: 1.2733 - val_wine_type_loss: 0.1294 - val_wine_type_accuracy: 0.9861\n",
      "Epoch 10/100\n",
      "3155/3155 [==============================] - 0s 131us/sample - loss: 1.3412 - wine_quality_loss: 1.2234 - wine_type_loss: 0.1174 - wine_type_accuracy: 0.9880 - val_loss: 1.2962 - val_wine_quality_loss: 1.1875 - val_wine_type_loss: 0.1093 - val_wine_type_accuracy: 0.9861\n",
      "Epoch 11/100\n",
      "3155/3155 [==============================] - 0s 130us/sample - loss: 1.2511 - wine_quality_loss: 1.1502 - wine_type_loss: 0.1007 - wine_type_accuracy: 0.9886 - val_loss: 1.1952 - val_wine_quality_loss: 1.1016 - val_wine_type_loss: 0.0939 - val_wine_type_accuracy: 0.9861\n",
      "Epoch 12/100\n",
      "3155/3155 [==============================] - 0s 127us/sample - loss: 1.1639 - wine_quality_loss: 1.0730 - wine_type_loss: 0.0877 - wine_type_accuracy: 0.9883 - val_loss: 1.1138 - val_wine_quality_loss: 1.0312 - val_wine_type_loss: 0.0823 - val_wine_type_accuracy: 0.9861\n",
      "Epoch 13/100\n",
      "3155/3155 [==============================] - 0s 127us/sample - loss: 1.0897 - wine_quality_loss: 1.0101 - wine_type_loss: 0.0775 - wine_type_accuracy: 0.9892 - val_loss: 1.0469 - val_wine_quality_loss: 0.9738 - val_wine_type_loss: 0.0724 - val_wine_type_accuracy: 0.9873\n",
      "Epoch 14/100\n",
      "3155/3155 [==============================] - 0s 127us/sample - loss: 1.0256 - wine_quality_loss: 0.9542 - wine_type_loss: 0.0699 - wine_type_accuracy: 0.9902 - val_loss: 0.9900 - val_wine_quality_loss: 0.9231 - val_wine_type_loss: 0.0656 - val_wine_type_accuracy: 0.9886\n",
      "Epoch 15/100\n",
      "3155/3155 [==============================] - 0s 130us/sample - loss: 0.9672 - wine_quality_loss: 0.9017 - wine_type_loss: 0.0649 - wine_type_accuracy: 0.9908 - val_loss: 0.9428 - val_wine_quality_loss: 0.8814 - val_wine_type_loss: 0.0600 - val_wine_type_accuracy: 0.9899\n",
      "Epoch 16/100\n",
      "3155/3155 [==============================] - 0s 129us/sample - loss: 0.9130 - wine_quality_loss: 0.8541 - wine_type_loss: 0.0595 - wine_type_accuracy: 0.9911 - val_loss: 0.8783 - val_wine_quality_loss: 0.8209 - val_wine_type_loss: 0.0559 - val_wine_type_accuracy: 0.9899\n",
      "Epoch 17/100\n",
      "3155/3155 [==============================] - 0s 129us/sample - loss: 0.8648 - wine_quality_loss: 0.8094 - wine_type_loss: 0.0554 - wine_type_accuracy: 0.9911 - val_loss: 0.8380 - val_wine_quality_loss: 0.7837 - val_wine_type_loss: 0.0523 - val_wine_type_accuracy: 0.9911\n",
      "Epoch 18/100\n",
      "3155/3155 [==============================] - 0s 134us/sample - loss: 0.8204 - wine_quality_loss: 0.7664 - wine_type_loss: 0.0520 - wine_type_accuracy: 0.9918 - val_loss: 0.8002 - val_wine_quality_loss: 0.7488 - val_wine_type_loss: 0.0491 - val_wine_type_accuracy: 0.9911\n",
      "Epoch 19/100\n",
      "3155/3155 [==============================] - 0s 138us/sample - loss: 0.7790 - wine_quality_loss: 0.7304 - wine_type_loss: 0.0494 - wine_type_accuracy: 0.9914 - val_loss: 0.7558 - val_wine_quality_loss: 0.7069 - val_wine_type_loss: 0.0468 - val_wine_type_accuracy: 0.9911\n",
      "Epoch 20/100\n",
      "3155/3155 [==============================] - 0s 140us/sample - loss: 0.7411 - wine_quality_loss: 0.6941 - wine_type_loss: 0.0473 - wine_type_accuracy: 0.9918 - val_loss: 0.7176 - val_wine_quality_loss: 0.6705 - val_wine_type_loss: 0.0450 - val_wine_type_accuracy: 0.9911\n",
      "Epoch 21/100\n",
      "3155/3155 [==============================] - 0s 145us/sample - loss: 0.7068 - wine_quality_loss: 0.6721 - wine_type_loss: 0.0452 - wine_type_accuracy: 0.9918 - val_loss: 0.6848 - val_wine_quality_loss: 0.6394 - val_wine_type_loss: 0.0432 - val_wine_type_accuracy: 0.9911\n",
      "Epoch 22/100\n",
      "3155/3155 [==============================] - 0s 154us/sample - loss: 0.6732 - wine_quality_loss: 0.6299 - wine_type_loss: 0.0436 - wine_type_accuracy: 0.9921 - val_loss: 0.6571 - val_wine_quality_loss: 0.6130 - val_wine_type_loss: 0.0418 - val_wine_type_accuracy: 0.9924\n",
      "Epoch 23/100\n",
      "3155/3155 [==============================] - 0s 147us/sample - loss: 0.6429 - wine_quality_loss: 0.6011 - wine_type_loss: 0.0422 - wine_type_accuracy: 0.9918 - val_loss: 0.6402 - val_wine_quality_loss: 0.5972 - val_wine_type_loss: 0.0405 - val_wine_type_accuracy: 0.9924\n",
      "Epoch 24/100\n",
      "3155/3155 [==============================] - 0s 144us/sample - loss: 0.6154 - wine_quality_loss: 0.5745 - wine_type_loss: 0.0414 - wine_type_accuracy: 0.9924 - val_loss: 0.5979 - val_wine_quality_loss: 0.5564 - val_wine_type_loss: 0.0395 - val_wine_type_accuracy: 0.9924\n",
      "Epoch 25/100\n",
      "3155/3155 [==============================] - 0s 144us/sample - loss: 0.5912 - wine_quality_loss: 0.5513 - wine_type_loss: 0.0401 - wine_type_accuracy: 0.9927 - val_loss: 0.5762 - val_wine_quality_loss: 0.5360 - val_wine_type_loss: 0.0386 - val_wine_type_accuracy: 0.9937\n",
      "Epoch 26/100\n",
      "3155/3155 [==============================] - 0s 145us/sample - loss: 0.5658 - wine_quality_loss: 0.5266 - wine_type_loss: 0.0389 - wine_type_accuracy: 0.9927 - val_loss: 0.5588 - val_wine_quality_loss: 0.5190 - val_wine_type_loss: 0.0377 - val_wine_type_accuracy: 0.9937\n",
      "Epoch 27/100\n",
      "3155/3155 [==============================] - 0s 144us/sample - loss: 0.5422 - wine_quality_loss: 0.5040 - wine_type_loss: 0.0381 - wine_type_accuracy: 0.9927 - val_loss: 0.5386 - val_wine_quality_loss: 0.4995 - val_wine_type_loss: 0.0369 - val_wine_type_accuracy: 0.9937\n",
      "Epoch 28/100\n",
      "3155/3155 [==============================] - 0s 146us/sample - loss: 0.5206 - wine_quality_loss: 0.4831 - wine_type_loss: 0.0372 - wine_type_accuracy: 0.9930 - val_loss: 0.5113 - val_wine_quality_loss: 0.4730 - val_wine_type_loss: 0.0362 - val_wine_type_accuracy: 0.9937\n",
      "Epoch 29/100\n",
      "3155/3155 [==============================] - 0s 144us/sample - loss: 0.5024 - wine_quality_loss: 0.4664 - wine_type_loss: 0.0365 - wine_type_accuracy: 0.9930 - val_loss: 0.4962 - val_wine_quality_loss: 0.4584 - val_wine_type_loss: 0.0356 - val_wine_type_accuracy: 0.9949\n"
     ]
    },
    {
     "name": "stdout",
     "output_type": "stream",
     "text": [
      "Epoch 30/100\n",
      "3155/3155 [==============================] - 0s 146us/sample - loss: 0.4856 - wine_quality_loss: 0.4503 - wine_type_loss: 0.0358 - wine_type_accuracy: 0.9930 - val_loss: 0.4795 - val_wine_quality_loss: 0.4424 - val_wine_type_loss: 0.0352 - val_wine_type_accuracy: 0.9937\n",
      "Epoch 31/100\n",
      "3155/3155 [==============================] - 0s 139us/sample - loss: 0.4699 - wine_quality_loss: 0.4344 - wine_type_loss: 0.0353 - wine_type_accuracy: 0.9930 - val_loss: 0.4689 - val_wine_quality_loss: 0.4323 - val_wine_type_loss: 0.0346 - val_wine_type_accuracy: 0.9949\n",
      "Epoch 32/100\n",
      "3155/3155 [==============================] - 0s 139us/sample - loss: 0.4569 - wine_quality_loss: 0.4215 - wine_type_loss: 0.0349 - wine_type_accuracy: 0.9930 - val_loss: 0.4503 - val_wine_quality_loss: 0.4141 - val_wine_type_loss: 0.0344 - val_wine_type_accuracy: 0.9937\n",
      "Epoch 33/100\n",
      "3155/3155 [==============================] - 0s 139us/sample - loss: 0.4443 - wine_quality_loss: 0.4101 - wine_type_loss: 0.0358 - wine_type_accuracy: 0.9930 - val_loss: 0.4433 - val_wine_quality_loss: 0.4077 - val_wine_type_loss: 0.0339 - val_wine_type_accuracy: 0.9937\n",
      "Epoch 34/100\n",
      "3155/3155 [==============================] - 0s 140us/sample - loss: 0.4336 - wine_quality_loss: 0.4006 - wine_type_loss: 0.0338 - wine_type_accuracy: 0.9930 - val_loss: 0.4354 - val_wine_quality_loss: 0.3998 - val_wine_type_loss: 0.0337 - val_wine_type_accuracy: 0.9937\n",
      "Epoch 35/100\n",
      "3155/3155 [==============================] - 0s 140us/sample - loss: 0.4240 - wine_quality_loss: 0.3901 - wine_type_loss: 0.0335 - wine_type_accuracy: 0.9930 - val_loss: 0.4244 - val_wine_quality_loss: 0.3895 - val_wine_type_loss: 0.0332 - val_wine_type_accuracy: 0.9949\n",
      "Epoch 36/100\n",
      "3155/3155 [==============================] - 0s 139us/sample - loss: 0.4139 - wine_quality_loss: 0.3808 - wine_type_loss: 0.0330 - wine_type_accuracy: 0.9927 - val_loss: 0.4288 - val_wine_quality_loss: 0.3937 - val_wine_type_loss: 0.0331 - val_wine_type_accuracy: 0.9937\n",
      "Epoch 37/100\n",
      "3155/3155 [==============================] - 0s 140us/sample - loss: 0.4066 - wine_quality_loss: 0.3733 - wine_type_loss: 0.0325 - wine_type_accuracy: 0.9930 - val_loss: 0.4183 - val_wine_quality_loss: 0.3834 - val_wine_type_loss: 0.0329 - val_wine_type_accuracy: 0.9937\n",
      "Epoch 38/100\n",
      "3155/3155 [==============================] - 0s 140us/sample - loss: 0.3980 - wine_quality_loss: 0.3661 - wine_type_loss: 0.0322 - wine_type_accuracy: 0.9933 - val_loss: 0.4050 - val_wine_quality_loss: 0.3707 - val_wine_type_loss: 0.0326 - val_wine_type_accuracy: 0.9937\n",
      "Epoch 39/100\n",
      "3155/3155 [==============================] - 0s 140us/sample - loss: 0.3927 - wine_quality_loss: 0.3613 - wine_type_loss: 0.0318 - wine_type_accuracy: 0.9930 - val_loss: 0.3990 - val_wine_quality_loss: 0.3649 - val_wine_type_loss: 0.0323 - val_wine_type_accuracy: 0.9949\n",
      "Epoch 40/100\n",
      "3155/3155 [==============================] - 0s 140us/sample - loss: 0.3849 - wine_quality_loss: 0.3535 - wine_type_loss: 0.0314 - wine_type_accuracy: 0.9937 - val_loss: 0.3960 - val_wine_quality_loss: 0.3621 - val_wine_type_loss: 0.0322 - val_wine_type_accuracy: 0.9937\n",
      "Epoch 41/100\n",
      "3155/3155 [==============================] - 0s 140us/sample - loss: 0.3795 - wine_quality_loss: 0.3481 - wine_type_loss: 0.0316 - wine_type_accuracy: 0.9937 - val_loss: 0.3938 - val_wine_quality_loss: 0.3599 - val_wine_type_loss: 0.0318 - val_wine_type_accuracy: 0.9949\n",
      "Epoch 42/100\n",
      "3155/3155 [==============================] - 0s 140us/sample - loss: 0.3757 - wine_quality_loss: 0.3465 - wine_type_loss: 0.0309 - wine_type_accuracy: 0.9940 - val_loss: 0.3857 - val_wine_quality_loss: 0.3524 - val_wine_type_loss: 0.0318 - val_wine_type_accuracy: 0.9937\n",
      "Epoch 43/100\n",
      "3155/3155 [==============================] - 0s 141us/sample - loss: 0.3715 - wine_quality_loss: 0.3412 - wine_type_loss: 0.0306 - wine_type_accuracy: 0.9940 - val_loss: 0.3802 - val_wine_quality_loss: 0.3470 - val_wine_type_loss: 0.0317 - val_wine_type_accuracy: 0.9937\n",
      "Epoch 44/100\n",
      "3155/3155 [==============================] - 0s 144us/sample - loss: 0.3683 - wine_quality_loss: 0.3373 - wine_type_loss: 0.0303 - wine_type_accuracy: 0.9940 - val_loss: 0.3788 - val_wine_quality_loss: 0.3458 - val_wine_type_loss: 0.0315 - val_wine_type_accuracy: 0.9937\n",
      "Epoch 45/100\n",
      "3155/3155 [==============================] - 0s 144us/sample - loss: 0.3649 - wine_quality_loss: 0.3345 - wine_type_loss: 0.0300 - wine_type_accuracy: 0.9943 - val_loss: 0.3711 - val_wine_quality_loss: 0.3384 - val_wine_type_loss: 0.0314 - val_wine_type_accuracy: 0.9937\n",
      "Epoch 46/100\n",
      "3155/3155 [==============================] - 0s 144us/sample - loss: 0.3618 - wine_quality_loss: 0.3320 - wine_type_loss: 0.0298 - wine_type_accuracy: 0.9940 - val_loss: 0.3745 - val_wine_quality_loss: 0.3416 - val_wine_type_loss: 0.0313 - val_wine_type_accuracy: 0.9937\n",
      "Epoch 47/100\n",
      "3155/3155 [==============================] - 0s 150us/sample - loss: 0.3578 - wine_quality_loss: 0.3283 - wine_type_loss: 0.0295 - wine_type_accuracy: 0.9940 - val_loss: 0.3697 - val_wine_quality_loss: 0.3371 - val_wine_type_loss: 0.0311 - val_wine_type_accuracy: 0.9937\n",
      "Epoch 48/100\n",
      "3155/3155 [==============================] - 1s 159us/sample - loss: 0.3552 - wine_quality_loss: 0.3270 - wine_type_loss: 0.0293 - wine_type_accuracy: 0.9940 - val_loss: 0.3660 - val_wine_quality_loss: 0.3336 - val_wine_type_loss: 0.0309 - val_wine_type_accuracy: 0.9937\n",
      "Epoch 49/100\n",
      "3155/3155 [==============================] - 0s 152us/sample - loss: 0.3524 - wine_quality_loss: 0.3229 - wine_type_loss: 0.0292 - wine_type_accuracy: 0.9940 - val_loss: 0.3651 - val_wine_quality_loss: 0.3327 - val_wine_type_loss: 0.0310 - val_wine_type_accuracy: 0.9937\n",
      "Epoch 50/100\n",
      "3155/3155 [==============================] - 0s 157us/sample - loss: 0.3490 - wine_quality_loss: 0.3196 - wine_type_loss: 0.0288 - wine_type_accuracy: 0.9943 - val_loss: 0.3834 - val_wine_quality_loss: 0.3504 - val_wine_type_loss: 0.0310 - val_wine_type_accuracy: 0.9937\n",
      "Epoch 51/100\n",
      "3155/3155 [==============================] - 0s 148us/sample - loss: 0.3473 - wine_quality_loss: 0.3192 - wine_type_loss: 0.0286 - wine_type_accuracy: 0.9940 - val_loss: 0.3614 - val_wine_quality_loss: 0.3294 - val_wine_type_loss: 0.0306 - val_wine_type_accuracy: 0.9949\n",
      "Epoch 52/100\n",
      "3155/3155 [==============================] - 0s 157us/sample - loss: 0.3465 - wine_quality_loss: 0.3179 - wine_type_loss: 0.0287 - wine_type_accuracy: 0.9940 - val_loss: 0.3679 - val_wine_quality_loss: 0.3355 - val_wine_type_loss: 0.0306 - val_wine_type_accuracy: 0.9937\n",
      "Epoch 53/100\n",
      "3155/3155 [==============================] - 0s 141us/sample - loss: 0.3439 - wine_quality_loss: 0.3153 - wine_type_loss: 0.0282 - wine_type_accuracy: 0.9943 - val_loss: 0.3703 - val_wine_quality_loss: 0.3379 - val_wine_type_loss: 0.0306 - val_wine_type_accuracy: 0.9937\n",
      "Epoch 54/100\n",
      "3155/3155 [==============================] - 0s 144us/sample - loss: 0.3428 - wine_quality_loss: 0.3148 - wine_type_loss: 0.0294 - wine_type_accuracy: 0.9943 - val_loss: 0.3589 - val_wine_quality_loss: 0.3269 - val_wine_type_loss: 0.0304 - val_wine_type_accuracy: 0.9937\n",
      "Epoch 55/100\n",
      "3155/3155 [==============================] - 0s 140us/sample - loss: 0.3412 - wine_quality_loss: 0.3142 - wine_type_loss: 0.0278 - wine_type_accuracy: 0.9943 - val_loss: 0.3579 - val_wine_quality_loss: 0.3261 - val_wine_type_loss: 0.0303 - val_wine_type_accuracy: 0.9937\n",
      "Epoch 56/100\n",
      "3155/3155 [==============================] - 0s 145us/sample - loss: 0.3390 - wine_quality_loss: 0.3109 - wine_type_loss: 0.0277 - wine_type_accuracy: 0.9949 - val_loss: 0.3532 - val_wine_quality_loss: 0.3215 - val_wine_type_loss: 0.0303 - val_wine_type_accuracy: 0.9937\n",
      "Epoch 57/100\n",
      "3155/3155 [==============================] - 0s 147us/sample - loss: 0.3375 - wine_quality_loss: 0.3096 - wine_type_loss: 0.0275 - wine_type_accuracy: 0.9949 - val_loss: 0.3639 - val_wine_quality_loss: 0.3322 - val_wine_type_loss: 0.0302 - val_wine_type_accuracy: 0.9937\n",
      "Epoch 58/100\n",
      "3155/3155 [==============================] - 0s 144us/sample - loss: 0.3357 - wine_quality_loss: 0.3083 - wine_type_loss: 0.0273 - wine_type_accuracy: 0.9949 - val_loss: 0.3604 - val_wine_quality_loss: 0.3288 - val_wine_type_loss: 0.0303 - val_wine_type_accuracy: 0.9937\n"
     ]
    },
    {
     "name": "stdout",
     "output_type": "stream",
     "text": [
      "Epoch 59/100\n",
      "3155/3155 [==============================] - 0s 141us/sample - loss: 0.3351 - wine_quality_loss: 0.3075 - wine_type_loss: 0.0272 - wine_type_accuracy: 0.9946 - val_loss: 0.3506 - val_wine_quality_loss: 0.3194 - val_wine_type_loss: 0.0300 - val_wine_type_accuracy: 0.9937\n",
      "Epoch 60/100\n",
      "3155/3155 [==============================] - 0s 146us/sample - loss: 0.3332 - wine_quality_loss: 0.3063 - wine_type_loss: 0.0270 - wine_type_accuracy: 0.9949 - val_loss: 0.3585 - val_wine_quality_loss: 0.3271 - val_wine_type_loss: 0.0302 - val_wine_type_accuracy: 0.9937\n",
      "Epoch 61/100\n",
      "3155/3155 [==============================] - 0s 144us/sample - loss: 0.3328 - wine_quality_loss: 0.3058 - wine_type_loss: 0.0268 - wine_type_accuracy: 0.9946 - val_loss: 0.3506 - val_wine_quality_loss: 0.3194 - val_wine_type_loss: 0.0299 - val_wine_type_accuracy: 0.9937\n",
      "Epoch 62/100\n",
      "3155/3155 [==============================] - 0s 151us/sample - loss: 0.3310 - wine_quality_loss: 0.3034 - wine_type_loss: 0.0268 - wine_type_accuracy: 0.9949 - val_loss: 0.3523 - val_wine_quality_loss: 0.3212 - val_wine_type_loss: 0.0298 - val_wine_type_accuracy: 0.9937\n",
      "Epoch 63/100\n",
      "3155/3155 [==============================] - 0s 154us/sample - loss: 0.3297 - wine_quality_loss: 0.3031 - wine_type_loss: 0.0265 - wine_type_accuracy: 0.9949 - val_loss: 0.3581 - val_wine_quality_loss: 0.3271 - val_wine_type_loss: 0.0298 - val_wine_type_accuracy: 0.9937\n",
      "Epoch 64/100\n",
      "3155/3155 [==============================] - 0s 151us/sample - loss: 0.3288 - wine_quality_loss: 0.3028 - wine_type_loss: 0.0264 - wine_type_accuracy: 0.9946 - val_loss: 0.3599 - val_wine_quality_loss: 0.3287 - val_wine_type_loss: 0.0299 - val_wine_type_accuracy: 0.9937\n",
      "Epoch 65/100\n",
      "3155/3155 [==============================] - 0s 143us/sample - loss: 0.3273 - wine_quality_loss: 0.3007 - wine_type_loss: 0.0263 - wine_type_accuracy: 0.9946 - val_loss: 0.3514 - val_wine_quality_loss: 0.3203 - val_wine_type_loss: 0.0297 - val_wine_type_accuracy: 0.9937\n",
      "Epoch 66/100\n",
      "3155/3155 [==============================] - 0s 143us/sample - loss: 0.3263 - wine_quality_loss: 0.2998 - wine_type_loss: 0.0262 - wine_type_accuracy: 0.9949 - val_loss: 0.3535 - val_wine_quality_loss: 0.3226 - val_wine_type_loss: 0.0298 - val_wine_type_accuracy: 0.9937\n",
      "Epoch 67/100\n",
      "3155/3155 [==============================] - 0s 145us/sample - loss: 0.3262 - wine_quality_loss: 0.3006 - wine_type_loss: 0.0260 - wine_type_accuracy: 0.9949 - val_loss: 0.3473 - val_wine_quality_loss: 0.3167 - val_wine_type_loss: 0.0296 - val_wine_type_accuracy: 0.9937\n",
      "Epoch 68/100\n",
      "3155/3155 [==============================] - 0s 143us/sample - loss: 0.3254 - wine_quality_loss: 0.2987 - wine_type_loss: 0.0260 - wine_type_accuracy: 0.9949 - val_loss: 0.3485 - val_wine_quality_loss: 0.3180 - val_wine_type_loss: 0.0295 - val_wine_type_accuracy: 0.9937\n",
      "Epoch 69/100\n",
      "3155/3155 [==============================] - 0s 142us/sample - loss: 0.3234 - wine_quality_loss: 0.2982 - wine_type_loss: 0.0271 - wine_type_accuracy: 0.9949 - val_loss: 0.3529 - val_wine_quality_loss: 0.3222 - val_wine_type_loss: 0.0295 - val_wine_type_accuracy: 0.9937\n",
      "Epoch 70/100\n",
      "3155/3155 [==============================] - 0s 141us/sample - loss: 0.3226 - wine_quality_loss: 0.2962 - wine_type_loss: 0.0256 - wine_type_accuracy: 0.9949 - val_loss: 0.3525 - val_wine_quality_loss: 0.3214 - val_wine_type_loss: 0.0296 - val_wine_type_accuracy: 0.9937\n",
      "Epoch 71/100\n",
      "3155/3155 [==============================] - 0s 139us/sample - loss: 0.3212 - wine_quality_loss: 0.2958 - wine_type_loss: 0.0256 - wine_type_accuracy: 0.9952 - val_loss: 0.3530 - val_wine_quality_loss: 0.3222 - val_wine_type_loss: 0.0296 - val_wine_type_accuracy: 0.9937\n",
      "Epoch 72/100\n",
      "3155/3155 [==============================] - 0s 139us/sample - loss: 0.3218 - wine_quality_loss: 0.2963 - wine_type_loss: 0.0254 - wine_type_accuracy: 0.9949 - val_loss: 0.3482 - val_wine_quality_loss: 0.3175 - val_wine_type_loss: 0.0297 - val_wine_type_accuracy: 0.9937\n",
      "Epoch 73/100\n",
      "3155/3155 [==============================] - 0s 139us/sample - loss: 0.3199 - wine_quality_loss: 0.2945 - wine_type_loss: 0.0253 - wine_type_accuracy: 0.9949 - val_loss: 0.3484 - val_wine_quality_loss: 0.3179 - val_wine_type_loss: 0.0294 - val_wine_type_accuracy: 0.9937\n",
      "Epoch 74/100\n",
      "3155/3155 [==============================] - 0s 140us/sample - loss: 0.3195 - wine_quality_loss: 0.2946 - wine_type_loss: 0.0252 - wine_type_accuracy: 0.9949 - val_loss: 0.3468 - val_wine_quality_loss: 0.3160 - val_wine_type_loss: 0.0295 - val_wine_type_accuracy: 0.9937\n",
      "Epoch 75/100\n",
      "3155/3155 [==============================] - 0s 139us/sample - loss: 0.3189 - wine_quality_loss: 0.2936 - wine_type_loss: 0.0250 - wine_type_accuracy: 0.9949 - val_loss: 0.3582 - val_wine_quality_loss: 0.3271 - val_wine_type_loss: 0.0294 - val_wine_type_accuracy: 0.9937\n",
      "Epoch 76/100\n",
      "3155/3155 [==============================] - 0s 140us/sample - loss: 0.3187 - wine_quality_loss: 0.2929 - wine_type_loss: 0.0249 - wine_type_accuracy: 0.9949 - val_loss: 0.3478 - val_wine_quality_loss: 0.3169 - val_wine_type_loss: 0.0295 - val_wine_type_accuracy: 0.9937\n",
      "Epoch 77/100\n",
      "3155/3155 [==============================] - 0s 146us/sample - loss: 0.3176 - wine_quality_loss: 0.2924 - wine_type_loss: 0.0248 - wine_type_accuracy: 0.9952 - val_loss: 0.3492 - val_wine_quality_loss: 0.3190 - val_wine_type_loss: 0.0293 - val_wine_type_accuracy: 0.9937\n",
      "Epoch 78/100\n",
      "3155/3155 [==============================] - 0s 152us/sample - loss: 0.3165 - wine_quality_loss: 0.2916 - wine_type_loss: 0.0247 - wine_type_accuracy: 0.9952 - val_loss: 0.3427 - val_wine_quality_loss: 0.3123 - val_wine_type_loss: 0.0293 - val_wine_type_accuracy: 0.9937\n",
      "Epoch 79/100\n",
      "3155/3155 [==============================] - 0s 153us/sample - loss: 0.3161 - wine_quality_loss: 0.2914 - wine_type_loss: 0.0246 - wine_type_accuracy: 0.9956 - val_loss: 0.3506 - val_wine_quality_loss: 0.3199 - val_wine_type_loss: 0.0295 - val_wine_type_accuracy: 0.9937\n",
      "Epoch 80/100\n",
      "3155/3155 [==============================] - 0s 151us/sample - loss: 0.3157 - wine_quality_loss: 0.2917 - wine_type_loss: 0.0246 - wine_type_accuracy: 0.9956 - val_loss: 0.3443 - val_wine_quality_loss: 0.3138 - val_wine_type_loss: 0.0293 - val_wine_type_accuracy: 0.9937\n",
      "Epoch 81/100\n",
      "3155/3155 [==============================] - 0s 144us/sample - loss: 0.3151 - wine_quality_loss: 0.2912 - wine_type_loss: 0.0244 - wine_type_accuracy: 0.9952 - val_loss: 0.3446 - val_wine_quality_loss: 0.3143 - val_wine_type_loss: 0.0293 - val_wine_type_accuracy: 0.9937\n",
      "Epoch 82/100\n",
      "3155/3155 [==============================] - 0s 143us/sample - loss: 0.3136 - wine_quality_loss: 0.2887 - wine_type_loss: 0.0244 - wine_type_accuracy: 0.9952 - val_loss: 0.3456 - val_wine_quality_loss: 0.3155 - val_wine_type_loss: 0.0292 - val_wine_type_accuracy: 0.9937\n",
      "Epoch 83/100\n",
      "3155/3155 [==============================] - 0s 143us/sample - loss: 0.3129 - wine_quality_loss: 0.2886 - wine_type_loss: 0.0242 - wine_type_accuracy: 0.9952 - val_loss: 0.3446 - val_wine_quality_loss: 0.3146 - val_wine_type_loss: 0.0291 - val_wine_type_accuracy: 0.9937\n",
      "Epoch 84/100\n",
      "3155/3155 [==============================] - 0s 143us/sample - loss: 0.3134 - wine_quality_loss: 0.2887 - wine_type_loss: 0.0242 - wine_type_accuracy: 0.9952 - val_loss: 0.3435 - val_wine_quality_loss: 0.3132 - val_wine_type_loss: 0.0291 - val_wine_type_accuracy: 0.9937\n",
      "Epoch 85/100\n",
      "3155/3155 [==============================] - 0s 143us/sample - loss: 0.3117 - wine_quality_loss: 0.2881 - wine_type_loss: 0.0240 - wine_type_accuracy: 0.9956 - val_loss: 0.3449 - val_wine_quality_loss: 0.3148 - val_wine_type_loss: 0.0291 - val_wine_type_accuracy: 0.9937\n",
      "Epoch 86/100\n",
      "3155/3155 [==============================] - 0s 143us/sample - loss: 0.3112 - wine_quality_loss: 0.2875 - wine_type_loss: 0.0239 - wine_type_accuracy: 0.9959 - val_loss: 0.3479 - val_wine_quality_loss: 0.3177 - val_wine_type_loss: 0.0291 - val_wine_type_accuracy: 0.9937\n",
      "Epoch 87/100\n",
      "3155/3155 [==============================] - 0s 144us/sample - loss: 0.3110 - wine_quality_loss: 0.2867 - wine_type_loss: 0.0252 - wine_type_accuracy: 0.9956 - val_loss: 0.3430 - val_wine_quality_loss: 0.3131 - val_wine_type_loss: 0.0290 - val_wine_type_accuracy: 0.9937\n"
     ]
    },
    {
     "name": "stdout",
     "output_type": "stream",
     "text": [
      "Epoch 88/100\n",
      "3155/3155 [==============================] - 0s 142us/sample - loss: 0.3089 - wine_quality_loss: 0.2851 - wine_type_loss: 0.0238 - wine_type_accuracy: 0.9956 - val_loss: 0.3426 - val_wine_quality_loss: 0.3126 - val_wine_type_loss: 0.0290 - val_wine_type_accuracy: 0.9937\n",
      "Epoch 89/100\n",
      "3155/3155 [==============================] - 0s 142us/sample - loss: 0.3089 - wine_quality_loss: 0.2849 - wine_type_loss: 0.0236 - wine_type_accuracy: 0.9956 - val_loss: 0.3429 - val_wine_quality_loss: 0.3131 - val_wine_type_loss: 0.0289 - val_wine_type_accuracy: 0.9937\n",
      "Epoch 90/100\n",
      "3155/3155 [==============================] - 0s 142us/sample - loss: 0.3092 - wine_quality_loss: 0.2853 - wine_type_loss: 0.0235 - wine_type_accuracy: 0.9959 - val_loss: 0.3451 - val_wine_quality_loss: 0.3151 - val_wine_type_loss: 0.0289 - val_wine_type_accuracy: 0.9937\n",
      "Epoch 91/100\n",
      "3155/3155 [==============================] - 0s 142us/sample - loss: 0.3082 - wine_quality_loss: 0.2851 - wine_type_loss: 0.0234 - wine_type_accuracy: 0.9959 - val_loss: 0.3451 - val_wine_quality_loss: 0.3149 - val_wine_type_loss: 0.0289 - val_wine_type_accuracy: 0.9937\n",
      "Epoch 92/100\n",
      "3155/3155 [==============================] - 0s 141us/sample - loss: 0.3071 - wine_quality_loss: 0.2837 - wine_type_loss: 0.0233 - wine_type_accuracy: 0.9962 - val_loss: 0.3421 - val_wine_quality_loss: 0.3121 - val_wine_type_loss: 0.0289 - val_wine_type_accuracy: 0.9937\n",
      "Epoch 93/100\n",
      "3155/3155 [==============================] - 0s 138us/sample - loss: 0.3076 - wine_quality_loss: 0.2840 - wine_type_loss: 0.0233 - wine_type_accuracy: 0.9959 - val_loss: 0.3451 - val_wine_quality_loss: 0.3152 - val_wine_type_loss: 0.0288 - val_wine_type_accuracy: 0.9937\n",
      "Epoch 94/100\n",
      "3155/3155 [==============================] - 0s 139us/sample - loss: 0.3064 - wine_quality_loss: 0.2833 - wine_type_loss: 0.0231 - wine_type_accuracy: 0.9959 - val_loss: 0.3406 - val_wine_quality_loss: 0.3109 - val_wine_type_loss: 0.0287 - val_wine_type_accuracy: 0.9937\n",
      "Epoch 95/100\n",
      "3155/3155 [==============================] - 0s 138us/sample - loss: 0.3057 - wine_quality_loss: 0.2825 - wine_type_loss: 0.0230 - wine_type_accuracy: 0.9962 - val_loss: 0.3447 - val_wine_quality_loss: 0.3152 - val_wine_type_loss: 0.0288 - val_wine_type_accuracy: 0.9937\n",
      "Epoch 96/100\n",
      "3155/3155 [==============================] - 0s 138us/sample - loss: 0.3058 - wine_quality_loss: 0.2824 - wine_type_loss: 0.0230 - wine_type_accuracy: 0.9962 - val_loss: 0.3441 - val_wine_quality_loss: 0.3143 - val_wine_type_loss: 0.0286 - val_wine_type_accuracy: 0.9937\n",
      "Epoch 97/100\n",
      "3155/3155 [==============================] - 0s 139us/sample - loss: 0.3056 - wine_quality_loss: 0.2823 - wine_type_loss: 0.0229 - wine_type_accuracy: 0.9962 - val_loss: 0.3474 - val_wine_quality_loss: 0.3177 - val_wine_type_loss: 0.0285 - val_wine_type_accuracy: 0.9937\n",
      "Epoch 98/100\n",
      "3155/3155 [==============================] - 0s 143us/sample - loss: 0.3046 - wine_quality_loss: 0.2819 - wine_type_loss: 0.0228 - wine_type_accuracy: 0.9962 - val_loss: 0.3417 - val_wine_quality_loss: 0.3121 - val_wine_type_loss: 0.0285 - val_wine_type_accuracy: 0.9937\n",
      "Epoch 99/100\n",
      "3155/3155 [==============================] - 0s 142us/sample - loss: 0.3037 - wine_quality_loss: 0.2803 - wine_type_loss: 0.0229 - wine_type_accuracy: 0.9962 - val_loss: 0.3450 - val_wine_quality_loss: 0.3152 - val_wine_type_loss: 0.0284 - val_wine_type_accuracy: 0.9937\n",
      "Epoch 100/100\n",
      "3155/3155 [==============================] - 0s 142us/sample - loss: 0.3039 - wine_quality_loss: 0.2814 - wine_type_loss: 0.0226 - wine_type_accuracy: 0.9962 - val_loss: 0.3389 - val_wine_quality_loss: 0.3095 - val_wine_type_loss: 0.0284 - val_wine_type_accuracy: 0.9937\n"
     ]
    }
   ],
   "source": [
    "history = model.fit(train_norm, train_y, epochs=100, validation_data=(val_norm, val_y))"
   ]
  },
  {
   "cell_type": "markdown",
   "id": "statewide-patch",
   "metadata": {},
   "source": [
    "## Metrics"
   ]
  },
  {
   "cell_type": "code",
   "execution_count": 26,
   "id": "ranking-sugar",
   "metadata": {},
   "outputs": [
    {
     "name": "stdout",
     "output_type": "stream",
     "text": [
      "\r",
      "789/1 [======================================================================================================================================================================================================================================================================================================================================================================================================================================================================================================================================================================================================================================================================================================================================================================================================================================================================================================================================================================================================================================================================================================================================================================================================================================================================================================================================================================================================================================================================================================================================================================================================================================================================================================================================================================================================================================================================================================================================================================================================================================================================================================================================================================================================================================================================================================================================================================================================================================================================================================================================================================================================================================================================================================================================================================================================================================================================================================================================================================================================================================================================================================================================================================================================================================================================================================================================================================================================================================================================================================================================================================================================================================================================================================================================================================================================================================================================================================================================================================================================================================================================================================================================================================================================================================================================================================================================================================================================================================================================================================================================================================================================================================================================================================================================================================================================================================================================================================================================================================================================================================================================================================================================================================================================================================================================================================================================================================================================================================================================================================================================================================================================================================================================================================================================================================================================================================================================================================================================================================================================================================================================================================================================================================================================================================================================================================================================================================================================================================================================================================================================================================================================================================================================================================================================================================================================================================================================================================================================================================================================================================================================================================================================================================================================================================================================================================================================================================================================================================================================================================================================================================================================================================================================================================================================================================================================================================================================================================================================================================================================================================================================================================================================================================================================================================================================================================================================================================================================================================================================================================================================================================================================================================================================================================================================================================================================================================================================================================================================================================================================================================================================================================================================================================================================================================================================================================================================================================================================================================================================================================================================================================================================================================================================================================================================================================================================================================================================================================================================================================================================================================================================================================================================================================================================================================================================================================================================================================================================================================================================================================================================================================================================================================================================================================================================================================================================================================================================================================================================================================================================================================================================================================================================================================================================================================================================================================================================================================================================================================================================================================================================================================================================================================================================================================================================================================================================================================================================================================================================================================================================================================================================================================================================================================================================================================================================================================================================================================================================================================================================================================================================================================================================================================================================================================================================================================================================================================================================================================================================================================================================================================================================================================================================================================================================================================================================================================================================================================================================================================================================================================================================================================================================================================================================================================================================================================================================================================================================================================================================================================================================================================================================================================================================================================================================================================================================================================================================================================================================================================================================================================================================================================================================================================================================================================================================================================================================================================================================================================================================================================================================================================================================================================================================================================================================================================================================================================================================================================================================================================================================================================================================================================================================================================================================================================================================================================================================================================================================================================================================================================================================================================================================================================================================================================================================================================================================================================================================================================================================================================================================================================================================================================================================================================================================================================================================================================================================================================================================================================================================================================================================================================================================================================================================================================================================================================================================================================================================================================================================================================================================================================================================================================================================================================================================================================================================================================================================================================================================================================================================================================================================================================================================================================================================================================================================================================================================================================================================================================================================================================================================================================================================================================================================================================================================================================================================================================================================================================================================================================================================================================================================================================================================================================================================================================================================================================================================================================================================================================================================================================================================================================================================================================================================================================================================================================================================================================================================================================================================================================================================================================================================================================================================================================================================================================================================================================================================================================================================================================================================================================================================================================================================================================================================================================================================================================================================================================================================================================================================================================================================================================================================================================================================================================================================================================================================================================================================================================================================================================================================================================================================================================================================================================================================================================================================================================================================================================================================================================================================================================================================================================================================================================================================================================================================================================================================================================================================================================================================================================================================================================================================================================================================================================================================================================================================================================================================================================================================================================================================================================================================================================================================================================================================================================================================================================================================================================================================================================================================================================================================================================================================================================================================================================================================================================================================================================================================================================================================================================================================================================================================================================================================================================================================================================================================================================================================================================================================================================================================================================================================================================================================================================================================================================================================================================================] - 0s 47us/sample - loss: 0.3004 - wine_quality_loss: 0.3095 - wine_type_loss: 0.0284 - wine_type_accuracy: 0.9937\n"
     ]
    },
    {
     "name": "stdout",
     "output_type": "stream",
     "text": [
      "loss: 0.33890354961950064\n",
      "wine_quality_loss: 0.30945882201194763\n",
      "wine_type_loss: 0.02838703617453575\n",
      "wine_type_accuracy: 0.9936628937721252\n"
     ]
    }
   ],
   "source": [
    "# Gather the training metrics\n",
    "loss, wine_quality_loss, wine_type_loss, wine_type_accuracy = model.evaluate(val_norm, val_y)\n",
    "\n",
    "#print()\n",
    "print(f'loss: {loss}')\n",
    "print(f'wine_quality_loss: {wine_quality_loss}')\n",
    "print(f'wine_type_loss: {wine_type_loss}')\n",
    "print(f'wine_type_accuracy: {wine_type_accuracy}')\n",
    "\n",
    "# EXPECTED VALUES\n",
    "# ~ 0.30 - 0.38\n",
    "# ~ 0.30 - 0.38\n",
    "# ~ 0.018 - 0.030\n",
    "# ~ 0.50 - 0.62\n",
    "# ~ 0.97 - 1.0"
   ]
  },
  {
   "cell_type": "markdown",
   "id": "appointed-faculty",
   "metadata": {},
   "source": [
    "## Analyze the Model Performance\n",
    "Note that the model has two outputs. The output at index 0 is quality and index 1 is wine type\n",
    "\n",
    "So, round the quality predictions to the nearest integer."
   ]
  },
  {
   "cell_type": "code",
   "execution_count": 27,
   "id": "technological-devon",
   "metadata": {},
   "outputs": [],
   "source": [
    "predictions = model.predict(test_norm)\n",
    "quality_pred = predictions[0]\n",
    "type_pred = predictions[1]"
   ]
  },
  {
   "cell_type": "code",
   "execution_count": 28,
   "id": "bright-flashing",
   "metadata": {},
   "outputs": [
    {
     "name": "stdout",
     "output_type": "stream",
     "text": [
      "[5.6595]\n"
     ]
    }
   ],
   "source": [
    "print(quality_pred[0])\n",
    "\n",
    "# EXPECTED OUTPUT\n",
    "# 5.6 - 6.0"
   ]
  },
  {
   "cell_type": "code",
   "execution_count": 29,
   "id": "significant-campaign",
   "metadata": {},
   "outputs": [
    {
     "name": "stdout",
     "output_type": "stream",
     "text": [
      "[0.00068027]\n",
      "[0.9999889]\n"
     ]
    }
   ],
   "source": [
    "print(type_pred[0])\n",
    "print(type_pred[944])\n",
    "\n",
    "# EXPECTED OUTPUT\n",
    "# A number close to zero\n",
    "# A number close to or equal to 1"
   ]
  },
  {
   "cell_type": "markdown",
   "id": "blind-nowhere",
   "metadata": {},
   "source": [
    "\n",
    "## Plot Utilities\n",
    "We define a few utilities to visualize the model performance.\n"
   ]
  },
  {
   "cell_type": "code",
   "execution_count": 30,
   "id": "concerned-metallic",
   "metadata": {},
   "outputs": [],
   "source": [
    "def plot_metrics(metric_name, title, ylim=5):\n",
    "    plt.title(title)\n",
    "    plt.ylim(0,ylim)\n",
    "    plt.plot(history.history[metric_name],color='blue',label=metric_name)\n",
    "    plt.plot(history.history['val_' + metric_name],color='green',label='val_' + metric_name)\n",
    "    \n",
    "    \n",
    "    \n",
    "def plot_confusion_matrix(y_true, y_pred, title='', labels=[0,1]):\n",
    "    cm = confusion_matrix(y_true, y_pred)\n",
    "    fig = plt.figure()\n",
    "    ax = fig.add_subplot(111)\n",
    "    cax = ax.matshow(cm)\n",
    "    plt.title('Confusion matrix of the classifier')\n",
    "    fig.colorbar(cax)\n",
    "    ax.set_xticklabels([''] + labels)\n",
    "    ax.set_yticklabels([''] + labels)\n",
    "    plt.xlabel('Predicted')\n",
    "    plt.ylabel('True')\n",
    "    fmt = 'd'\n",
    "    thresh = cm.max() / 2.\n",
    "    for i, j in itertools.product(range(cm.shape[0]), range(cm.shape[1])):\n",
    "          plt.text(j, i, format(cm[i, j], fmt),\n",
    "                  horizontalalignment=\"center\",\n",
    "                  color=\"black\" if cm[i, j] > thresh else \"white\")\n",
    "    plt.show()\n",
    "    \n",
    "    \n",
    "    \n",
    "def plot_diff(y_true, y_pred, title = '' ):\n",
    "    plt.scatter(y_true, y_pred)\n",
    "    plt.title(title)\n",
    "    plt.xlabel('True Values')\n",
    "    plt.ylabel('Predictions')\n",
    "    plt.axis('equal')\n",
    "    plt.axis('square')\n",
    "    plt.plot([-100, 100], [-100, 100])\n",
    "    return plt   "
   ]
  },
  {
   "cell_type": "code",
   "execution_count": 31,
   "id": "inside-dryer",
   "metadata": {},
   "outputs": [
    {
     "data": {
      "image/png": "[encoded data removed]",
      "text/plain": [
       "<Figure size 432x288 with 1 Axes>"
      ]
     },
     "metadata": {
      "needs_background": "light"
     },
     "output_type": "display_data"
    }
   ],
   "source": [
    "plot_metrics('wine_type_loss', 'Wine Type Loss', ylim=0.2)"
   ]
  },
  {
   "cell_type": "code",
   "execution_count": 32,
   "id": "becoming-engineering",
   "metadata": {},
   "outputs": [
    {
     "name": "stderr",
     "output_type": "stream",
     "text": [
      "/opt/anaconda3/envs/py3TF2/lib/python3.7/site-packages/ipykernel_launcher.py:16: UserWarning: FixedFormatter should only be used together with FixedLocator\n",
      "  app.launch_new_instance()\n",
      "/opt/anaconda3/envs/py3TF2/lib/python3.7/site-packages/ipykernel_launcher.py:17: UserWarning: FixedFormatter should only be used together with FixedLocator\n"
     ]
    },
    {
     "data": {
      "image/png": "[encoded data removed]",
      "text/plain": [
       "<Figure size 432x288 with 2 Axes>"
      ]
     },
     "metadata": {
      "needs_background": "light"
     },
     "output_type": "display_data"
    }
   ],
   "source": [
    "plot_confusion_matrix(test_y[1], np.round(type_pred), title='Wine Type', labels = [0, 1])"
   ]
  },
  {
   "cell_type": "code",
   "execution_count": 33,
   "id": "substantial-inflation",
   "metadata": {},
   "outputs": [
    {
     "data": {
      "image/png": "[encoded data removed]",
      "text/plain": [
       "<Figure size 432x288 with 1 Axes>"
      ]
     },
     "metadata": {
      "needs_background": "light"
     },
     "output_type": "display_data"
    }
   ],
   "source": [
    "scatter_plot = plot_diff(test_y[0], quality_pred, title='Type')"
   ]
  },
  {
   "cell_type": "code",
   "execution_count": null,
   "id": "accessory-freight",
   "metadata": {},
   "outputs": [],
   "source": []
  }
 ],
 "metadata": {
  "kernelspec": {
   "display_name": "Python [conda env:py3TF2]",
   "language": "python",
   "name": "conda-env-py3TF2-py"
  },
  "language_info": {
   "codemirror_mode": {
    "name": "ipython",
    "version": 3
   },
   "file_extension": ".py",
   "mimetype": "text/x-python",
   "name": "python",
   "nbconvert_exporter": "python",
   "pygments_lexer": "ipython3",
   "version": "3.7.9"
  }
 },
 "nbformat": 4,
 "nbformat_minor": 5
}
