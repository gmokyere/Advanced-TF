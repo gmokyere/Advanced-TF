{
 "cells": [
  {
   "cell_type": "code",
   "execution_count": 1,
   "id": "practical-burlington",
   "metadata": {},
   "outputs": [],
   "source": [
    "import tensorflow as tf\n",
    "from tensorflow.keras.layers import Input,Dense, Dropout, Lambda, Flatten\n",
    "from tensorflow.keras.models import Model\n",
    "import numpy as np\n",
    "import matplotlib.pyplot as plt\n",
    "from tensorflow.keras import backend as K\n",
    "from tensorflow.python.keras.utils.vis_utils import plot_model\n"
   ]
  },
  {
   "cell_type": "markdown",
   "id": "unsigned-mount",
   "metadata": {},
   "source": [
    "# Prepare data\n"
   ]
  },
  {
   "cell_type": "code",
   "execution_count": 2,
   "id": "angry-ticket",
   "metadata": {},
   "outputs": [],
   "source": [
    "xs = np.array([1, 2, 3, 4, 5, 6, 7, 8, 9], dtype=float)\n",
    "ys = 2*xs - 1\n"
   ]
  },
  {
   "cell_type": "markdown",
   "id": "champion-monitor",
   "metadata": {},
   "source": [
    "## Custom loss"
   ]
  },
  {
   "cell_type": "code",
   "execution_count": 3,
   "id": "tested-latino",
   "metadata": {},
   "outputs": [],
   "source": [
    "def huber_loss_with_threshold(threshold = 1):\n",
    "    def huber_loss(y_true, y_pred):\n",
    "        error = y_true - y_pred\n",
    "        is_error = tf.abs(error) <= threshold\n",
    "        return tf.where(is_error, .5 * tf.square(error), threshold * (tf.abs(error - .5  * threshold)))\n",
    "    return huber_loss"
   ]
  },
  {
   "cell_type": "code",
   "execution_count": 4,
   "id": "innovative-public",
   "metadata": {},
   "outputs": [
    {
     "data": {
      "image/png": "[encoded data removed]",
      "text/plain": [
       "<IPython.core.display.Image object>"
      ]
     },
     "execution_count": 4,
     "metadata": {},
     "output_type": "execute_result"
    }
   ],
   "source": [
    "## Model\n",
    "def model():\n",
    "    input_x = Input(shape=[1])\n",
    "    x = Dense(128, activation='relu')(input_x)\n",
    "    x = Dense(1)(x)\n",
    "    return Model(inputs = input_x, outputs = x)\n",
    "\n",
    "model = model()\n",
    "\n",
    "plot_model(model, show_shapes=True)"
   ]
  },
  {
   "cell_type": "code",
   "execution_count": 5,
   "id": "artificial-michigan",
   "metadata": {},
   "outputs": [
    {
     "data": {
      "text/plain": [
       "array([[18.90059]], dtype=float32)"
      ]
     },
     "execution_count": 5,
     "metadata": {},
     "output_type": "execute_result"
    }
   ],
   "source": [
    "model.compile(loss = huber_loss_with_threshold(1), optimizer=tf.optimizers.RMSprop())\n",
    "#model.compile(loss = 'mse', optimizer=tf.optimizers.RMSprop())\n",
    "\n",
    "model.fit(xs, ys, epochs=500, verbose=0)\n",
    "model.predict([10])"
   ]
  },
  {
   "cell_type": "markdown",
   "id": "impressed-warren",
   "metadata": {},
   "source": [
    "# Class method"
   ]
  },
  {
   "cell_type": "code",
   "execution_count": 6,
   "id": "stylish-quarterly",
   "metadata": {},
   "outputs": [],
   "source": [
    "from tensorflow.keras.losses import Loss\n",
    "\n",
    "class my_huber_loss(Loss):\n",
    "\n",
    "    threshold = 1\n",
    "    \n",
    "    def __init__(self, threshold):\n",
    "        super().__init__()\n",
    "        self.threshold = threshold\n",
    "\n",
    "\n",
    "    def call(self, y_true, ypred):\n",
    "        error = y_true - ypred\n",
    "        is_error = tf.abs(error) <= self.threshold\n",
    "        big_error = self.threshold * (tf.abs(error) - .5 * self.threshold)\n",
    "        return tf.where(is_error, .5 * tf.square(error), big_error)\n",
    "        "
   ]
  },
  {
   "cell_type": "code",
   "execution_count": 7,
   "id": "focused-summary",
   "metadata": {
    "scrolled": true
   },
   "outputs": [
    {
     "data": {
      "text/plain": [
       "array([[18.897459]], dtype=float32)"
      ]
     },
     "execution_count": 7,
     "metadata": {},
     "output_type": "execute_result"
    }
   ],
   "source": [
    "model.compile(loss = my_huber_loss(1), optimizer=tf.optimizers.RMSprop())\n",
    "#model.compile(loss = 'mse', optimizer=tf.optimizers.RMSprop())\n",
    "\n",
    "model.fit(xs, ys, epochs=100, verbose=0)\n",
    "model.predict([10])"
   ]
  },
  {
   "cell_type": "code",
   "execution_count": null,
   "id": "lasting-pacific",
   "metadata": {},
   "outputs": [],
   "source": []
  }
 ],
 "metadata": {
  "kernelspec": {
   "display_name": "Python [conda env:py3TF2]",
   "language": "python",
   "name": "conda-env-py3TF2-py"
  },
  "language_info": {
   "codemirror_mode": {
    "name": "ipython",
    "version": 3
   },
   "file_extension": ".py",
   "mimetype": "text/x-python",
   "name": "python",
   "nbconvert_exporter": "python",
   "pygments_lexer": "ipython3",
   "version": "3.7.9"
  }
 },
 "nbformat": 4,
 "nbformat_minor": 5
}
