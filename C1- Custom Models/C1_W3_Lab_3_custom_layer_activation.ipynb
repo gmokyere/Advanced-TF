{
  "nbformat": 4,
  "nbformat_minor": 0,
  "metadata": {
    "colab": {
      "name": "C1_W3_Lab_3_custom-layer-activation.ipynb",
      "provenance": []
    },
    "kernelspec": {
      "name": "python3",
      "display_name": "Python 3"
    }
  },
  "cells": [
    {
      "cell_type": "markdown",
      "metadata": {
        "id": "k1Wsr2MJHCz1"
      },
      "source": [
        "# Imports"
      ]
    },
    {
      "cell_type": "code",
      "metadata": {
        "id": "TTEwVLbIGWBc"
      },
      "source": [
        "import tensorflow as tf\n",
        "import numpy as np\n",
        "from tensorflow.keras.layers import Dense, Lambda, Input, Flatten, Layer\n",
        "from tensorflow.keras.models import Model\n",
        "from tensorflow.python.keras.utils.vis_utils import plot_model\n"
      ],
      "execution_count": 1,
      "outputs": []
    },
    {
      "cell_type": "markdown",
      "metadata": {
        "id": "BK1JlDk3HJ2t"
      },
      "source": [
        "# Custom Layer"
      ]
    },
    {
      "cell_type": "code",
      "metadata": {
        "id": "CjKY0X7iW0zR"
      },
      "source": [
        "\n",
        "class MySimpleDense(Layer):\n",
        "    def __init__(self, neurons=32, activation=None):\n",
        "        super(MySimpleDense, self).__init__()\n",
        "        self.units = neurons\n",
        "        self.activation = tf.keras.activations.get(activation)\n",
        "\n",
        "    def build(self, input_shape):\n",
        "        w_int = tf.random_normal_initializer()\n",
        "        self.w = tf.Variable(initial_value=w_int(shape=(input_shape[-1], self.units), dtype=float),\n",
        "                             trainable=True, name='kernel')\n",
        "\n",
        "        b_int = tf.zeros_initializer()\n",
        "        self.b = tf.Variable(name='bias', trainable=True,\n",
        "                             initial_value=b_int(shape=(self.units,)), dtype=float)\n",
        "\n",
        "    def call(self, inputs, **kwargs):\n",
        "        return self.activation(tf.matmul(inputs, self.w) + self.b) # this does w.T * X\n"
      ],
      "execution_count": 2,
      "outputs": []
    },
    {
      "cell_type": "markdown",
      "metadata": {
        "id": "V9y95koDb5iz"
      },
      "source": [
        "# Data 1"
      ]
    },
    {
      "cell_type": "code",
      "metadata": {
        "id": "Hhf-rUU1W-13"
      },
      "source": [
        "xs = np.array([1,2,3,4,5,6,7,8,9], dtype=float)\n",
        "ys = 2*xs - 1\n",
        "\n",
        "\n",
        "model = tf.keras.Sequential([\n",
        "                             MySimpleDense(1)\n",
        "])\n",
        "model.compile(loss = 'mse',\n",
        "              optimizer='sgd')\n",
        "\n",
        "model.fit(xs, ys, epochs=500, verbose=0)\n",
        "model.predict([10])"
      ],
      "execution_count": 4,
      "outputs": []
    },
    {
      "cell_type": "code",
      "metadata": {
        "colab": {
          "base_uri": "https://localhost:8080/"
        },
        "id": "z78nnNnuXctZ",
        "outputId": "9d7e9376-394c-48ce-d3d7-e3985caf2ac3"
      },
      "source": [
        "model.variables"
      ],
      "execution_count": 5,
      "outputs": [
        {
          "output_type": "execute_result",
          "data": {
            "text/plain": [
              "array([[18.903664]], dtype=float32)"
            ]
          },
          "metadata": {
            "tags": []
          },
          "execution_count": 5
        }
      ]
    },
    {
      "cell_type": "code",
      "metadata": {
        "colab": {
          "base_uri": "https://localhost:8080/"
        },
        "id": "xTUtwSVhXtoR",
        "outputId": "3ff68bdd-f312-4c06-f9ea-a334ccd2bcbf"
      },
      "source": [
        ""
      ],
      "execution_count": 6,
      "outputs": [
        {
          "output_type": "execute_result",
          "data": {
            "text/plain": [
              "[<tf.Variable 'my_simple_dense/kernel:0' shape=(1, 1) dtype=float32, numpy=array([[1.9740175]], dtype=float32)>,\n",
              " <tf.Variable 'my_simple_dense/bias:0' shape=(1,) dtype=float32, numpy=array([-0.8365115], dtype=float32)>]"
            ]
          },
          "metadata": {
            "tags": []
          },
          "execution_count": 6
        }
      ]
    },
    {
      "cell_type": "markdown",
      "metadata": {
        "id": "09fDOqs4bzMd"
      },
      "source": [
        "# Data 2 , Mnist"
      ]
    },
    {
      "cell_type": "code",
      "metadata": {
        "colab": {
          "base_uri": "https://localhost:8080/"
        },
        "id": "908tzM_zYIa8",
        "outputId": "046f5626-c707-4127-ab52-a0d2ad393bd8"
      },
      "source": [
        "mnist = tf.keras.datasets.mnist\n",
        "\n",
        "(x_train, y_train),(x_test, y_test) = mnist.load_data()\n",
        "x_train, x_test = x_train / 255.0, x_test / 255.0\n",
        "\n",
        "model = tf.keras.models.Sequential([\n",
        "    tf.keras.layers.Flatten(input_shape=(28, 28)),\n",
        "    MySimpleDense(128, activation='relu'),\n",
        "    tf.keras.layers.Dropout(0.2),\n",
        "    tf.keras.layers.Dense(10, activation='softmax')\n",
        "])\n",
        "\n",
        "model.compile(optimizer='adam',\n",
        "              loss='sparse_categorical_crossentropy',\n",
        "              metrics=['accuracy'])\n",
        "\n",
        "model.fit(x_train, y_train, epochs=5)\n",
        "model.evaluate(x_test, y_test)"
      ],
      "execution_count": 7,
      "outputs": [
        {
          "output_type": "stream",
          "text": [
            "Downloading data from https://storage.googleapis.com/tensorflow/tf-keras-datasets/mnist.npz\n",
            "11493376/11490434 [==============================] - 0s 0us/step\n",
            "Epoch 1/5\n",
            "1875/1875 [==============================] - 4s 2ms/step - loss: 0.4783 - accuracy: 0.8599\n",
            "Epoch 2/5\n",
            "1875/1875 [==============================] - 4s 2ms/step - loss: 0.1572 - accuracy: 0.9532\n",
            "Epoch 3/5\n",
            "1875/1875 [==============================] - 4s 2ms/step - loss: 0.1091 - accuracy: 0.9677\n",
            "Epoch 4/5\n",
            "1875/1875 [==============================] - 4s 2ms/step - loss: 0.0903 - accuracy: 0.9733\n",
            "Epoch 5/5\n",
            "1875/1875 [==============================] - 4s 2ms/step - loss: 0.0730 - accuracy: 0.9775\n",
            "313/313 [==============================] - 1s 1ms/step - loss: 0.0793 - accuracy: 0.9765\n"
          ],
          "name": "stdout"
        },
        {
          "output_type": "execute_result",
          "data": {
            "text/plain": [
              "[0.07933908700942993, 0.9764999747276306]"
            ]
          },
          "metadata": {
            "tags": []
          },
          "execution_count": 7
        }
      ]
    }
  ]
}